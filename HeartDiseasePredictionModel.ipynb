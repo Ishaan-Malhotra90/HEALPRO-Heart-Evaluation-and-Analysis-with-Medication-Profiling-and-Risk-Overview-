{
 "cells": [
  {
   "cell_type": "markdown",
   "metadata": {},
   "source": [
    "### Importing all the required libraries"
   ]
  },
  {
   "cell_type": "code",
   "execution_count": 13,
   "metadata": {},
   "outputs": [],
   "source": [
    "import numpy as np  \n",
    "import seaborn as sns\n",
    "import pandas as pd\n",
    "from imblearn.over_sampling import SMOTE\n",
    "import matplotlib.pyplot as plt\n",
    "import plotly.graph_objs as go\n",
    "import plotly.offline as py\n",
    "import tensorflow as tf\n",
    "from tensorflow import keras\n",
    "from sklearn.preprocessing import StandardScaler\n",
    "from sklearn.metrics import accuracy_score, confusion_matrix,classification_report\n",
    "import xgboost as xgb\n",
    "from sklearn.ensemble import RandomForestClassifier\n",
    "from sklearn.model_selection import GridSearchCV\n",
    "from sklearn.model_selection import train_test_split\n",
    "from sklearn.linear_model import LogisticRegression\n",
    "from sklearn.metrics import make_scorer, f1_score, accuracy_score"
   ]
  },
  {
   "cell_type": "markdown",
   "metadata": {},
   "source": [
    "### Reading and printing the data"
   ]
  },
  {
   "cell_type": "code",
   "execution_count": 14,
   "id": "917e4c5f",
   "metadata": {},
   "outputs": [
    {
     "data": {
      "text/html": [
       "<div>\n",
       "<style scoped>\n",
       "    .dataframe tbody tr th:only-of-type {\n",
       "        vertical-align: middle;\n",
       "    }\n",
       "\n",
       "    .dataframe tbody tr th {\n",
       "        vertical-align: top;\n",
       "    }\n",
       "\n",
       "    .dataframe thead th {\n",
       "        text-align: right;\n",
       "    }\n",
       "</style>\n",
       "<table border=\"1\" class=\"dataframe\">\n",
       "  <thead>\n",
       "    <tr style=\"text-align: right;\">\n",
       "      <th></th>\n",
       "      <th>male</th>\n",
       "      <th>age</th>\n",
       "      <th>education</th>\n",
       "      <th>cigsPerDay</th>\n",
       "      <th>BPMeds</th>\n",
       "      <th>prevalentStroke</th>\n",
       "      <th>prevalentHyp</th>\n",
       "      <th>diabetes</th>\n",
       "      <th>totChol</th>\n",
       "      <th>sysBP</th>\n",
       "      <th>diaBP</th>\n",
       "      <th>BMI</th>\n",
       "      <th>glucose</th>\n",
       "      <th>TenYearCHD</th>\n",
       "    </tr>\n",
       "  </thead>\n",
       "  <tbody>\n",
       "    <tr>\n",
       "      <th>0</th>\n",
       "      <td>1</td>\n",
       "      <td>39</td>\n",
       "      <td>4.0</td>\n",
       "      <td>0.0</td>\n",
       "      <td>0.0</td>\n",
       "      <td>0</td>\n",
       "      <td>0</td>\n",
       "      <td>0</td>\n",
       "      <td>195.0</td>\n",
       "      <td>106.0</td>\n",
       "      <td>70.0</td>\n",
       "      <td>26.97</td>\n",
       "      <td>77.0</td>\n",
       "      <td>0</td>\n",
       "    </tr>\n",
       "    <tr>\n",
       "      <th>1</th>\n",
       "      <td>0</td>\n",
       "      <td>46</td>\n",
       "      <td>2.0</td>\n",
       "      <td>0.0</td>\n",
       "      <td>0.0</td>\n",
       "      <td>0</td>\n",
       "      <td>0</td>\n",
       "      <td>0</td>\n",
       "      <td>250.0</td>\n",
       "      <td>121.0</td>\n",
       "      <td>81.0</td>\n",
       "      <td>28.73</td>\n",
       "      <td>76.0</td>\n",
       "      <td>0</td>\n",
       "    </tr>\n",
       "    <tr>\n",
       "      <th>2</th>\n",
       "      <td>1</td>\n",
       "      <td>48</td>\n",
       "      <td>1.0</td>\n",
       "      <td>20.0</td>\n",
       "      <td>0.0</td>\n",
       "      <td>0</td>\n",
       "      <td>0</td>\n",
       "      <td>0</td>\n",
       "      <td>245.0</td>\n",
       "      <td>127.5</td>\n",
       "      <td>80.0</td>\n",
       "      <td>25.34</td>\n",
       "      <td>70.0</td>\n",
       "      <td>0</td>\n",
       "    </tr>\n",
       "    <tr>\n",
       "      <th>3</th>\n",
       "      <td>0</td>\n",
       "      <td>61</td>\n",
       "      <td>3.0</td>\n",
       "      <td>30.0</td>\n",
       "      <td>0.0</td>\n",
       "      <td>0</td>\n",
       "      <td>1</td>\n",
       "      <td>0</td>\n",
       "      <td>225.0</td>\n",
       "      <td>150.0</td>\n",
       "      <td>95.0</td>\n",
       "      <td>28.58</td>\n",
       "      <td>103.0</td>\n",
       "      <td>1</td>\n",
       "    </tr>\n",
       "    <tr>\n",
       "      <th>4</th>\n",
       "      <td>0</td>\n",
       "      <td>46</td>\n",
       "      <td>3.0</td>\n",
       "      <td>23.0</td>\n",
       "      <td>0.0</td>\n",
       "      <td>0</td>\n",
       "      <td>0</td>\n",
       "      <td>0</td>\n",
       "      <td>285.0</td>\n",
       "      <td>130.0</td>\n",
       "      <td>84.0</td>\n",
       "      <td>23.10</td>\n",
       "      <td>85.0</td>\n",
       "      <td>0</td>\n",
       "    </tr>\n",
       "    <tr>\n",
       "      <th>...</th>\n",
       "      <td>...</td>\n",
       "      <td>...</td>\n",
       "      <td>...</td>\n",
       "      <td>...</td>\n",
       "      <td>...</td>\n",
       "      <td>...</td>\n",
       "      <td>...</td>\n",
       "      <td>...</td>\n",
       "      <td>...</td>\n",
       "      <td>...</td>\n",
       "      <td>...</td>\n",
       "      <td>...</td>\n",
       "      <td>...</td>\n",
       "      <td>...</td>\n",
       "    </tr>\n",
       "    <tr>\n",
       "      <th>4233</th>\n",
       "      <td>1</td>\n",
       "      <td>50</td>\n",
       "      <td>1.0</td>\n",
       "      <td>1.0</td>\n",
       "      <td>0.0</td>\n",
       "      <td>0</td>\n",
       "      <td>1</td>\n",
       "      <td>0</td>\n",
       "      <td>313.0</td>\n",
       "      <td>179.0</td>\n",
       "      <td>92.0</td>\n",
       "      <td>25.97</td>\n",
       "      <td>86.0</td>\n",
       "      <td>1</td>\n",
       "    </tr>\n",
       "    <tr>\n",
       "      <th>4234</th>\n",
       "      <td>1</td>\n",
       "      <td>51</td>\n",
       "      <td>3.0</td>\n",
       "      <td>43.0</td>\n",
       "      <td>0.0</td>\n",
       "      <td>0</td>\n",
       "      <td>0</td>\n",
       "      <td>0</td>\n",
       "      <td>207.0</td>\n",
       "      <td>126.5</td>\n",
       "      <td>80.0</td>\n",
       "      <td>19.71</td>\n",
       "      <td>68.0</td>\n",
       "      <td>0</td>\n",
       "    </tr>\n",
       "    <tr>\n",
       "      <th>4235</th>\n",
       "      <td>0</td>\n",
       "      <td>48</td>\n",
       "      <td>2.0</td>\n",
       "      <td>20.0</td>\n",
       "      <td>NaN</td>\n",
       "      <td>0</td>\n",
       "      <td>0</td>\n",
       "      <td>0</td>\n",
       "      <td>248.0</td>\n",
       "      <td>131.0</td>\n",
       "      <td>72.0</td>\n",
       "      <td>22.00</td>\n",
       "      <td>86.0</td>\n",
       "      <td>0</td>\n",
       "    </tr>\n",
       "    <tr>\n",
       "      <th>4236</th>\n",
       "      <td>0</td>\n",
       "      <td>44</td>\n",
       "      <td>1.0</td>\n",
       "      <td>15.0</td>\n",
       "      <td>0.0</td>\n",
       "      <td>0</td>\n",
       "      <td>0</td>\n",
       "      <td>0</td>\n",
       "      <td>210.0</td>\n",
       "      <td>126.5</td>\n",
       "      <td>87.0</td>\n",
       "      <td>19.16</td>\n",
       "      <td>NaN</td>\n",
       "      <td>0</td>\n",
       "    </tr>\n",
       "    <tr>\n",
       "      <th>4237</th>\n",
       "      <td>0</td>\n",
       "      <td>52</td>\n",
       "      <td>2.0</td>\n",
       "      <td>0.0</td>\n",
       "      <td>0.0</td>\n",
       "      <td>0</td>\n",
       "      <td>0</td>\n",
       "      <td>0</td>\n",
       "      <td>269.0</td>\n",
       "      <td>133.5</td>\n",
       "      <td>83.0</td>\n",
       "      <td>21.47</td>\n",
       "      <td>107.0</td>\n",
       "      <td>0</td>\n",
       "    </tr>\n",
       "  </tbody>\n",
       "</table>\n",
       "<p>4238 rows × 14 columns</p>\n",
       "</div>"
      ],
      "text/plain": [
       "      male  age  education  cigsPerDay  BPMeds  prevalentStroke  prevalentHyp  \\\n",
       "0        1   39        4.0         0.0     0.0                0             0   \n",
       "1        0   46        2.0         0.0     0.0                0             0   \n",
       "2        1   48        1.0        20.0     0.0                0             0   \n",
       "3        0   61        3.0        30.0     0.0                0             1   \n",
       "4        0   46        3.0        23.0     0.0                0             0   \n",
       "...    ...  ...        ...         ...     ...              ...           ...   \n",
       "4233     1   50        1.0         1.0     0.0                0             1   \n",
       "4234     1   51        3.0        43.0     0.0                0             0   \n",
       "4235     0   48        2.0        20.0     NaN                0             0   \n",
       "4236     0   44        1.0        15.0     0.0                0             0   \n",
       "4237     0   52        2.0         0.0     0.0                0             0   \n",
       "\n",
       "      diabetes  totChol  sysBP  diaBP    BMI  glucose  TenYearCHD  \n",
       "0            0    195.0  106.0   70.0  26.97     77.0           0  \n",
       "1            0    250.0  121.0   81.0  28.73     76.0           0  \n",
       "2            0    245.0  127.5   80.0  25.34     70.0           0  \n",
       "3            0    225.0  150.0   95.0  28.58    103.0           1  \n",
       "4            0    285.0  130.0   84.0  23.10     85.0           0  \n",
       "...        ...      ...    ...    ...    ...      ...         ...  \n",
       "4233         0    313.0  179.0   92.0  25.97     86.0           1  \n",
       "4234         0    207.0  126.5   80.0  19.71     68.0           0  \n",
       "4235         0    248.0  131.0   72.0  22.00     86.0           0  \n",
       "4236         0    210.0  126.5   87.0  19.16      NaN           0  \n",
       "4237         0    269.0  133.5   83.0  21.47    107.0           0  \n",
       "\n",
       "[4238 rows x 14 columns]"
      ]
     },
     "execution_count": 14,
     "metadata": {},
     "output_type": "execute_result"
    }
   ],
   "source": [
    "df = pd.read_csv(\"E:\\\\sem3\\\\projectsem3\\\\dataset.csv\")\n",
    "df"
   ]
  },
  {
   "cell_type": "markdown",
   "metadata": {},
   "source": [
    "### Describing the data"
   ]
  },
  {
   "cell_type": "code",
   "execution_count": 15,
   "metadata": {},
   "outputs": [
    {
     "data": {
      "text/html": [
       "<div>\n",
       "<style scoped>\n",
       "    .dataframe tbody tr th:only-of-type {\n",
       "        vertical-align: middle;\n",
       "    }\n",
       "\n",
       "    .dataframe tbody tr th {\n",
       "        vertical-align: top;\n",
       "    }\n",
       "\n",
       "    .dataframe thead th {\n",
       "        text-align: right;\n",
       "    }\n",
       "</style>\n",
       "<table border=\"1\" class=\"dataframe\">\n",
       "  <thead>\n",
       "    <tr style=\"text-align: right;\">\n",
       "      <th></th>\n",
       "      <th>male</th>\n",
       "      <th>age</th>\n",
       "      <th>education</th>\n",
       "      <th>cigsPerDay</th>\n",
       "      <th>BPMeds</th>\n",
       "      <th>prevalentStroke</th>\n",
       "      <th>prevalentHyp</th>\n",
       "      <th>diabetes</th>\n",
       "      <th>totChol</th>\n",
       "      <th>sysBP</th>\n",
       "      <th>diaBP</th>\n",
       "      <th>BMI</th>\n",
       "      <th>glucose</th>\n",
       "      <th>TenYearCHD</th>\n",
       "    </tr>\n",
       "  </thead>\n",
       "  <tbody>\n",
       "    <tr>\n",
       "      <th>0</th>\n",
       "      <td>1</td>\n",
       "      <td>39</td>\n",
       "      <td>4.0</td>\n",
       "      <td>0.0</td>\n",
       "      <td>0.0</td>\n",
       "      <td>0</td>\n",
       "      <td>0</td>\n",
       "      <td>0</td>\n",
       "      <td>195.0</td>\n",
       "      <td>106.0</td>\n",
       "      <td>70.0</td>\n",
       "      <td>26.97</td>\n",
       "      <td>77.0</td>\n",
       "      <td>0</td>\n",
       "    </tr>\n",
       "    <tr>\n",
       "      <th>1</th>\n",
       "      <td>0</td>\n",
       "      <td>46</td>\n",
       "      <td>2.0</td>\n",
       "      <td>0.0</td>\n",
       "      <td>0.0</td>\n",
       "      <td>0</td>\n",
       "      <td>0</td>\n",
       "      <td>0</td>\n",
       "      <td>250.0</td>\n",
       "      <td>121.0</td>\n",
       "      <td>81.0</td>\n",
       "      <td>28.73</td>\n",
       "      <td>76.0</td>\n",
       "      <td>0</td>\n",
       "    </tr>\n",
       "    <tr>\n",
       "      <th>2</th>\n",
       "      <td>1</td>\n",
       "      <td>48</td>\n",
       "      <td>1.0</td>\n",
       "      <td>20.0</td>\n",
       "      <td>0.0</td>\n",
       "      <td>0</td>\n",
       "      <td>0</td>\n",
       "      <td>0</td>\n",
       "      <td>245.0</td>\n",
       "      <td>127.5</td>\n",
       "      <td>80.0</td>\n",
       "      <td>25.34</td>\n",
       "      <td>70.0</td>\n",
       "      <td>0</td>\n",
       "    </tr>\n",
       "    <tr>\n",
       "      <th>3</th>\n",
       "      <td>0</td>\n",
       "      <td>61</td>\n",
       "      <td>3.0</td>\n",
       "      <td>30.0</td>\n",
       "      <td>0.0</td>\n",
       "      <td>0</td>\n",
       "      <td>1</td>\n",
       "      <td>0</td>\n",
       "      <td>225.0</td>\n",
       "      <td>150.0</td>\n",
       "      <td>95.0</td>\n",
       "      <td>28.58</td>\n",
       "      <td>103.0</td>\n",
       "      <td>1</td>\n",
       "    </tr>\n",
       "    <tr>\n",
       "      <th>4</th>\n",
       "      <td>0</td>\n",
       "      <td>46</td>\n",
       "      <td>3.0</td>\n",
       "      <td>23.0</td>\n",
       "      <td>0.0</td>\n",
       "      <td>0</td>\n",
       "      <td>0</td>\n",
       "      <td>0</td>\n",
       "      <td>285.0</td>\n",
       "      <td>130.0</td>\n",
       "      <td>84.0</td>\n",
       "      <td>23.10</td>\n",
       "      <td>85.0</td>\n",
       "      <td>0</td>\n",
       "    </tr>\n",
       "  </tbody>\n",
       "</table>\n",
       "</div>"
      ],
      "text/plain": [
       "   male  age  education  cigsPerDay  BPMeds  prevalentStroke  prevalentHyp  \\\n",
       "0     1   39        4.0         0.0     0.0                0             0   \n",
       "1     0   46        2.0         0.0     0.0                0             0   \n",
       "2     1   48        1.0        20.0     0.0                0             0   \n",
       "3     0   61        3.0        30.0     0.0                0             1   \n",
       "4     0   46        3.0        23.0     0.0                0             0   \n",
       "\n",
       "   diabetes  totChol  sysBP  diaBP    BMI  glucose  TenYearCHD  \n",
       "0         0    195.0  106.0   70.0  26.97     77.0           0  \n",
       "1         0    250.0  121.0   81.0  28.73     76.0           0  \n",
       "2         0    245.0  127.5   80.0  25.34     70.0           0  \n",
       "3         0    225.0  150.0   95.0  28.58    103.0           1  \n",
       "4         0    285.0  130.0   84.0  23.10     85.0           0  "
      ]
     },
     "execution_count": 15,
     "metadata": {},
     "output_type": "execute_result"
    }
   ],
   "source": [
    "df.head()"
   ]
  },
  {
   "cell_type": "code",
   "execution_count": 16,
   "metadata": {},
   "outputs": [
    {
     "data": {
      "text/html": [
       "<div>\n",
       "<style scoped>\n",
       "    .dataframe tbody tr th:only-of-type {\n",
       "        vertical-align: middle;\n",
       "    }\n",
       "\n",
       "    .dataframe tbody tr th {\n",
       "        vertical-align: top;\n",
       "    }\n",
       "\n",
       "    .dataframe thead th {\n",
       "        text-align: right;\n",
       "    }\n",
       "</style>\n",
       "<table border=\"1\" class=\"dataframe\">\n",
       "  <thead>\n",
       "    <tr style=\"text-align: right;\">\n",
       "      <th></th>\n",
       "      <th>male</th>\n",
       "      <th>age</th>\n",
       "      <th>education</th>\n",
       "      <th>cigsPerDay</th>\n",
       "      <th>BPMeds</th>\n",
       "      <th>prevalentStroke</th>\n",
       "      <th>prevalentHyp</th>\n",
       "      <th>diabetes</th>\n",
       "      <th>totChol</th>\n",
       "      <th>sysBP</th>\n",
       "      <th>diaBP</th>\n",
       "      <th>BMI</th>\n",
       "      <th>glucose</th>\n",
       "      <th>TenYearCHD</th>\n",
       "    </tr>\n",
       "  </thead>\n",
       "  <tbody>\n",
       "    <tr>\n",
       "      <th>4233</th>\n",
       "      <td>1</td>\n",
       "      <td>50</td>\n",
       "      <td>1.0</td>\n",
       "      <td>1.0</td>\n",
       "      <td>0.0</td>\n",
       "      <td>0</td>\n",
       "      <td>1</td>\n",
       "      <td>0</td>\n",
       "      <td>313.0</td>\n",
       "      <td>179.0</td>\n",
       "      <td>92.0</td>\n",
       "      <td>25.97</td>\n",
       "      <td>86.0</td>\n",
       "      <td>1</td>\n",
       "    </tr>\n",
       "    <tr>\n",
       "      <th>4234</th>\n",
       "      <td>1</td>\n",
       "      <td>51</td>\n",
       "      <td>3.0</td>\n",
       "      <td>43.0</td>\n",
       "      <td>0.0</td>\n",
       "      <td>0</td>\n",
       "      <td>0</td>\n",
       "      <td>0</td>\n",
       "      <td>207.0</td>\n",
       "      <td>126.5</td>\n",
       "      <td>80.0</td>\n",
       "      <td>19.71</td>\n",
       "      <td>68.0</td>\n",
       "      <td>0</td>\n",
       "    </tr>\n",
       "    <tr>\n",
       "      <th>4235</th>\n",
       "      <td>0</td>\n",
       "      <td>48</td>\n",
       "      <td>2.0</td>\n",
       "      <td>20.0</td>\n",
       "      <td>NaN</td>\n",
       "      <td>0</td>\n",
       "      <td>0</td>\n",
       "      <td>0</td>\n",
       "      <td>248.0</td>\n",
       "      <td>131.0</td>\n",
       "      <td>72.0</td>\n",
       "      <td>22.00</td>\n",
       "      <td>86.0</td>\n",
       "      <td>0</td>\n",
       "    </tr>\n",
       "    <tr>\n",
       "      <th>4236</th>\n",
       "      <td>0</td>\n",
       "      <td>44</td>\n",
       "      <td>1.0</td>\n",
       "      <td>15.0</td>\n",
       "      <td>0.0</td>\n",
       "      <td>0</td>\n",
       "      <td>0</td>\n",
       "      <td>0</td>\n",
       "      <td>210.0</td>\n",
       "      <td>126.5</td>\n",
       "      <td>87.0</td>\n",
       "      <td>19.16</td>\n",
       "      <td>NaN</td>\n",
       "      <td>0</td>\n",
       "    </tr>\n",
       "    <tr>\n",
       "      <th>4237</th>\n",
       "      <td>0</td>\n",
       "      <td>52</td>\n",
       "      <td>2.0</td>\n",
       "      <td>0.0</td>\n",
       "      <td>0.0</td>\n",
       "      <td>0</td>\n",
       "      <td>0</td>\n",
       "      <td>0</td>\n",
       "      <td>269.0</td>\n",
       "      <td>133.5</td>\n",
       "      <td>83.0</td>\n",
       "      <td>21.47</td>\n",
       "      <td>107.0</td>\n",
       "      <td>0</td>\n",
       "    </tr>\n",
       "  </tbody>\n",
       "</table>\n",
       "</div>"
      ],
      "text/plain": [
       "      male  age  education  cigsPerDay  BPMeds  prevalentStroke  prevalentHyp  \\\n",
       "4233     1   50        1.0         1.0     0.0                0             1   \n",
       "4234     1   51        3.0        43.0     0.0                0             0   \n",
       "4235     0   48        2.0        20.0     NaN                0             0   \n",
       "4236     0   44        1.0        15.0     0.0                0             0   \n",
       "4237     0   52        2.0         0.0     0.0                0             0   \n",
       "\n",
       "      diabetes  totChol  sysBP  diaBP    BMI  glucose  TenYearCHD  \n",
       "4233         0    313.0  179.0   92.0  25.97     86.0           1  \n",
       "4234         0    207.0  126.5   80.0  19.71     68.0           0  \n",
       "4235         0    248.0  131.0   72.0  22.00     86.0           0  \n",
       "4236         0    210.0  126.5   87.0  19.16      NaN           0  \n",
       "4237         0    269.0  133.5   83.0  21.47    107.0           0  "
      ]
     },
     "execution_count": 16,
     "metadata": {},
     "output_type": "execute_result"
    }
   ],
   "source": [
    "df.tail()"
   ]
  },
  {
   "cell_type": "code",
   "execution_count": 17,
   "metadata": {},
   "outputs": [
    {
     "data": {
      "text/html": [
       "<div>\n",
       "<style scoped>\n",
       "    .dataframe tbody tr th:only-of-type {\n",
       "        vertical-align: middle;\n",
       "    }\n",
       "\n",
       "    .dataframe tbody tr th {\n",
       "        vertical-align: top;\n",
       "    }\n",
       "\n",
       "    .dataframe thead th {\n",
       "        text-align: right;\n",
       "    }\n",
       "</style>\n",
       "<table border=\"1\" class=\"dataframe\">\n",
       "  <thead>\n",
       "    <tr style=\"text-align: right;\">\n",
       "      <th></th>\n",
       "      <th>male</th>\n",
       "      <th>age</th>\n",
       "      <th>education</th>\n",
       "      <th>cigsPerDay</th>\n",
       "      <th>BPMeds</th>\n",
       "      <th>prevalentStroke</th>\n",
       "      <th>prevalentHyp</th>\n",
       "      <th>diabetes</th>\n",
       "      <th>totChol</th>\n",
       "      <th>sysBP</th>\n",
       "      <th>diaBP</th>\n",
       "      <th>BMI</th>\n",
       "      <th>glucose</th>\n",
       "      <th>TenYearCHD</th>\n",
       "    </tr>\n",
       "  </thead>\n",
       "  <tbody>\n",
       "    <tr>\n",
       "      <th>count</th>\n",
       "      <td>4238.000000</td>\n",
       "      <td>4238.000000</td>\n",
       "      <td>4133.000000</td>\n",
       "      <td>4209.000000</td>\n",
       "      <td>4185.000000</td>\n",
       "      <td>4238.000000</td>\n",
       "      <td>4238.000000</td>\n",
       "      <td>4238.000000</td>\n",
       "      <td>4188.000000</td>\n",
       "      <td>4238.000000</td>\n",
       "      <td>4238.000000</td>\n",
       "      <td>4219.000000</td>\n",
       "      <td>3850.000000</td>\n",
       "      <td>4238.000000</td>\n",
       "    </tr>\n",
       "    <tr>\n",
       "      <th>mean</th>\n",
       "      <td>0.429212</td>\n",
       "      <td>49.584946</td>\n",
       "      <td>1.978950</td>\n",
       "      <td>9.003089</td>\n",
       "      <td>0.029630</td>\n",
       "      <td>0.005899</td>\n",
       "      <td>0.310524</td>\n",
       "      <td>0.025720</td>\n",
       "      <td>236.721585</td>\n",
       "      <td>132.352407</td>\n",
       "      <td>82.893464</td>\n",
       "      <td>25.802008</td>\n",
       "      <td>81.966753</td>\n",
       "      <td>0.151958</td>\n",
       "    </tr>\n",
       "    <tr>\n",
       "      <th>std</th>\n",
       "      <td>0.495022</td>\n",
       "      <td>8.572160</td>\n",
       "      <td>1.019791</td>\n",
       "      <td>11.920094</td>\n",
       "      <td>0.169584</td>\n",
       "      <td>0.076587</td>\n",
       "      <td>0.462763</td>\n",
       "      <td>0.158316</td>\n",
       "      <td>44.590334</td>\n",
       "      <td>22.038097</td>\n",
       "      <td>11.910850</td>\n",
       "      <td>4.080111</td>\n",
       "      <td>23.959998</td>\n",
       "      <td>0.359023</td>\n",
       "    </tr>\n",
       "    <tr>\n",
       "      <th>min</th>\n",
       "      <td>0.000000</td>\n",
       "      <td>32.000000</td>\n",
       "      <td>1.000000</td>\n",
       "      <td>0.000000</td>\n",
       "      <td>0.000000</td>\n",
       "      <td>0.000000</td>\n",
       "      <td>0.000000</td>\n",
       "      <td>0.000000</td>\n",
       "      <td>107.000000</td>\n",
       "      <td>83.500000</td>\n",
       "      <td>48.000000</td>\n",
       "      <td>15.540000</td>\n",
       "      <td>40.000000</td>\n",
       "      <td>0.000000</td>\n",
       "    </tr>\n",
       "    <tr>\n",
       "      <th>25%</th>\n",
       "      <td>0.000000</td>\n",
       "      <td>42.000000</td>\n",
       "      <td>1.000000</td>\n",
       "      <td>0.000000</td>\n",
       "      <td>0.000000</td>\n",
       "      <td>0.000000</td>\n",
       "      <td>0.000000</td>\n",
       "      <td>0.000000</td>\n",
       "      <td>206.000000</td>\n",
       "      <td>117.000000</td>\n",
       "      <td>75.000000</td>\n",
       "      <td>23.070000</td>\n",
       "      <td>71.000000</td>\n",
       "      <td>0.000000</td>\n",
       "    </tr>\n",
       "    <tr>\n",
       "      <th>50%</th>\n",
       "      <td>0.000000</td>\n",
       "      <td>49.000000</td>\n",
       "      <td>2.000000</td>\n",
       "      <td>0.000000</td>\n",
       "      <td>0.000000</td>\n",
       "      <td>0.000000</td>\n",
       "      <td>0.000000</td>\n",
       "      <td>0.000000</td>\n",
       "      <td>234.000000</td>\n",
       "      <td>128.000000</td>\n",
       "      <td>82.000000</td>\n",
       "      <td>25.400000</td>\n",
       "      <td>78.000000</td>\n",
       "      <td>0.000000</td>\n",
       "    </tr>\n",
       "    <tr>\n",
       "      <th>75%</th>\n",
       "      <td>1.000000</td>\n",
       "      <td>56.000000</td>\n",
       "      <td>3.000000</td>\n",
       "      <td>20.000000</td>\n",
       "      <td>0.000000</td>\n",
       "      <td>0.000000</td>\n",
       "      <td>1.000000</td>\n",
       "      <td>0.000000</td>\n",
       "      <td>263.000000</td>\n",
       "      <td>144.000000</td>\n",
       "      <td>89.875000</td>\n",
       "      <td>28.040000</td>\n",
       "      <td>87.000000</td>\n",
       "      <td>0.000000</td>\n",
       "    </tr>\n",
       "    <tr>\n",
       "      <th>max</th>\n",
       "      <td>1.000000</td>\n",
       "      <td>70.000000</td>\n",
       "      <td>4.000000</td>\n",
       "      <td>70.000000</td>\n",
       "      <td>1.000000</td>\n",
       "      <td>1.000000</td>\n",
       "      <td>1.000000</td>\n",
       "      <td>1.000000</td>\n",
       "      <td>696.000000</td>\n",
       "      <td>295.000000</td>\n",
       "      <td>142.500000</td>\n",
       "      <td>56.800000</td>\n",
       "      <td>394.000000</td>\n",
       "      <td>1.000000</td>\n",
       "    </tr>\n",
       "  </tbody>\n",
       "</table>\n",
       "</div>"
      ],
      "text/plain": [
       "              male          age    education   cigsPerDay       BPMeds  \\\n",
       "count  4238.000000  4238.000000  4133.000000  4209.000000  4185.000000   \n",
       "mean      0.429212    49.584946     1.978950     9.003089     0.029630   \n",
       "std       0.495022     8.572160     1.019791    11.920094     0.169584   \n",
       "min       0.000000    32.000000     1.000000     0.000000     0.000000   \n",
       "25%       0.000000    42.000000     1.000000     0.000000     0.000000   \n",
       "50%       0.000000    49.000000     2.000000     0.000000     0.000000   \n",
       "75%       1.000000    56.000000     3.000000    20.000000     0.000000   \n",
       "max       1.000000    70.000000     4.000000    70.000000     1.000000   \n",
       "\n",
       "       prevalentStroke  prevalentHyp     diabetes      totChol        sysBP  \\\n",
       "count      4238.000000   4238.000000  4238.000000  4188.000000  4238.000000   \n",
       "mean          0.005899      0.310524     0.025720   236.721585   132.352407   \n",
       "std           0.076587      0.462763     0.158316    44.590334    22.038097   \n",
       "min           0.000000      0.000000     0.000000   107.000000    83.500000   \n",
       "25%           0.000000      0.000000     0.000000   206.000000   117.000000   \n",
       "50%           0.000000      0.000000     0.000000   234.000000   128.000000   \n",
       "75%           0.000000      1.000000     0.000000   263.000000   144.000000   \n",
       "max           1.000000      1.000000     1.000000   696.000000   295.000000   \n",
       "\n",
       "             diaBP          BMI      glucose   TenYearCHD  \n",
       "count  4238.000000  4219.000000  3850.000000  4238.000000  \n",
       "mean     82.893464    25.802008    81.966753     0.151958  \n",
       "std      11.910850     4.080111    23.959998     0.359023  \n",
       "min      48.000000    15.540000    40.000000     0.000000  \n",
       "25%      75.000000    23.070000    71.000000     0.000000  \n",
       "50%      82.000000    25.400000    78.000000     0.000000  \n",
       "75%      89.875000    28.040000    87.000000     0.000000  \n",
       "max     142.500000    56.800000   394.000000     1.000000  "
      ]
     },
     "execution_count": 17,
     "metadata": {},
     "output_type": "execute_result"
    }
   ],
   "source": [
    "df.describe()"
   ]
  },
  {
   "cell_type": "code",
   "execution_count": 18,
   "metadata": {},
   "outputs": [
    {
     "name": "stdout",
     "output_type": "stream",
     "text": [
      "<class 'pandas.core.frame.DataFrame'>\n",
      "RangeIndex: 4238 entries, 0 to 4237\n",
      "Data columns (total 14 columns):\n",
      " #   Column           Non-Null Count  Dtype  \n",
      "---  ------           --------------  -----  \n",
      " 0   male             4238 non-null   int64  \n",
      " 1   age              4238 non-null   int64  \n",
      " 2   education        4133 non-null   float64\n",
      " 3   cigsPerDay       4209 non-null   float64\n",
      " 4   BPMeds           4185 non-null   float64\n",
      " 5   prevalentStroke  4238 non-null   int64  \n",
      " 6   prevalentHyp     4238 non-null   int64  \n",
      " 7   diabetes         4238 non-null   int64  \n",
      " 8   totChol          4188 non-null   float64\n",
      " 9   sysBP            4238 non-null   float64\n",
      " 10  diaBP            4238 non-null   float64\n",
      " 11  BMI              4219 non-null   float64\n",
      " 12  glucose          3850 non-null   float64\n",
      " 13  TenYearCHD       4238 non-null   int64  \n",
      "dtypes: float64(8), int64(6)\n",
      "memory usage: 463.7 KB\n"
     ]
    }
   ],
   "source": [
    "df.info()"
   ]
  },
  {
   "cell_type": "markdown",
   "metadata": {},
   "source": [
    "### Cleaning and Preprocessing the data"
   ]
  },
  {
   "cell_type": "code",
   "execution_count": 19,
   "id": "d8b70670",
   "metadata": {},
   "outputs": [
    {
     "data": {
      "text/plain": [
       "male                 0\n",
       "age                  0\n",
       "education          105\n",
       "cigsPerDay          29\n",
       "BPMeds              53\n",
       "prevalentStroke      0\n",
       "prevalentHyp         0\n",
       "diabetes             0\n",
       "totChol             50\n",
       "sysBP                0\n",
       "diaBP                0\n",
       "BMI                 19\n",
       "glucose            388\n",
       "TenYearCHD           0\n",
       "dtype: int64"
      ]
     },
     "execution_count": 19,
     "metadata": {},
     "output_type": "execute_result"
    }
   ],
   "source": [
    "df.isnull().sum()"
   ]
  },
  {
   "cell_type": "code",
   "execution_count": 20,
   "id": "d52f5961",
   "metadata": {},
   "outputs": [],
   "source": [
    "df = df.fillna(df.mean())"
   ]
  },
  {
   "cell_type": "code",
   "execution_count": 21,
   "id": "8983d0cd",
   "metadata": {},
   "outputs": [
    {
     "data": {
      "text/plain": [
       "male               0\n",
       "age                0\n",
       "education          0\n",
       "cigsPerDay         0\n",
       "BPMeds             0\n",
       "prevalentStroke    0\n",
       "prevalentHyp       0\n",
       "diabetes           0\n",
       "totChol            0\n",
       "sysBP              0\n",
       "diaBP              0\n",
       "BMI                0\n",
       "glucose            0\n",
       "TenYearCHD         0\n",
       "dtype: int64"
      ]
     },
     "execution_count": 21,
     "metadata": {},
     "output_type": "execute_result"
    }
   ],
   "source": [
    "df.isnull().sum()"
   ]
  },
  {
   "cell_type": "code",
   "execution_count": 22,
   "id": "b0561767",
   "metadata": {},
   "outputs": [
    {
     "data": {
      "text/plain": [
       "(4238, 14)"
      ]
     },
     "execution_count": 22,
     "metadata": {},
     "output_type": "execute_result"
    }
   ],
   "source": [
    "df.shape"
   ]
  },
  {
   "cell_type": "code",
   "execution_count": 23,
   "id": "c8fa119f",
   "metadata": {},
   "outputs": [],
   "source": [
    "Categorical_Col = []\n",
    "Numerical_Col = []"
   ]
  },
  {
   "cell_type": "code",
   "execution_count": 24,
   "id": "3a51c645",
   "metadata": {},
   "outputs": [],
   "source": [
    "for col in df.columns:\n",
    "    if df[col].dtype == 'object':\n",
    "        Categorical_Col.append(col)\n",
    "    else:\n",
    "        Numerical_Col.append(col)"
   ]
  },
  {
   "cell_type": "code",
   "execution_count": 25,
   "id": "36b5eb4f",
   "metadata": {},
   "outputs": [
    {
     "data": {
      "text/plain": [
       "[]"
      ]
     },
     "execution_count": 25,
     "metadata": {},
     "output_type": "execute_result"
    }
   ],
   "source": [
    "Categorical_Col"
   ]
  },
  {
   "cell_type": "code",
   "execution_count": 26,
   "id": "bfd64e90",
   "metadata": {},
   "outputs": [
    {
     "data": {
      "text/plain": [
       "['male',\n",
       " 'age',\n",
       " 'education',\n",
       " 'cigsPerDay',\n",
       " 'BPMeds',\n",
       " 'prevalentStroke',\n",
       " 'prevalentHyp',\n",
       " 'diabetes',\n",
       " 'totChol',\n",
       " 'sysBP',\n",
       " 'diaBP',\n",
       " 'BMI',\n",
       " 'glucose',\n",
       " 'TenYearCHD']"
      ]
     },
     "execution_count": 26,
     "metadata": {},
     "output_type": "execute_result"
    }
   ],
   "source": [
    "Numerical_Col"
   ]
  },
  {
   "cell_type": "code",
   "execution_count": 27,
   "id": "05c505fa",
   "metadata": {},
   "outputs": [
    {
     "data": {
      "image/png": "[encoded data removed]",
      "text/plain": [
       "<Figure size 2500x2500 with 2 Axes>"
      ]
     },
     "metadata": {},
     "output_type": "display_data"
    }
   ],
   "source": [
    "plt.figure(figsize=(25,25), dpi= 100)\n",
    "sns.heatmap(df.corr(), xticklabels=df.corr().columns, yticklabels=df.corr().columns, cmap='RdYlGn', center=0, annot=True)\n",
    "plt.title('Correlogram of mtcars', fontsize=22)\n",
    "plt.xticks(fontsize=12)\n",
    "plt.yticks(fontsize=12)\n",
    "plt.show()"
   ]
  },
  {
   "cell_type": "code",
   "execution_count": 28,
   "id": "0463aa4b",
   "metadata": {},
   "outputs": [
    {
     "data": {
      "text/html": [
       "<div>\n",
       "<style scoped>\n",
       "    .dataframe tbody tr th:only-of-type {\n",
       "        vertical-align: middle;\n",
       "    }\n",
       "\n",
       "    .dataframe tbody tr th {\n",
       "        vertical-align: top;\n",
       "    }\n",
       "\n",
       "    .dataframe thead th {\n",
       "        text-align: right;\n",
       "    }\n",
       "</style>\n",
       "<table border=\"1\" class=\"dataframe\">\n",
       "  <thead>\n",
       "    <tr style=\"text-align: right;\">\n",
       "      <th></th>\n",
       "      <th>Gender</th>\n",
       "      <th>age</th>\n",
       "      <th>cigsPerDay</th>\n",
       "      <th>BPMeds</th>\n",
       "      <th>prevalentStroke</th>\n",
       "      <th>prevalentHyp</th>\n",
       "      <th>diabetes</th>\n",
       "      <th>totChol</th>\n",
       "      <th>sysBP</th>\n",
       "      <th>diaBP</th>\n",
       "      <th>BMI</th>\n",
       "      <th>glucose</th>\n",
       "      <th>TenYearCHD</th>\n",
       "    </tr>\n",
       "  </thead>\n",
       "  <tbody>\n",
       "    <tr>\n",
       "      <th>0</th>\n",
       "      <td>1</td>\n",
       "      <td>39</td>\n",
       "      <td>0.0</td>\n",
       "      <td>0.00000</td>\n",
       "      <td>0</td>\n",
       "      <td>0</td>\n",
       "      <td>0</td>\n",
       "      <td>195.0</td>\n",
       "      <td>106.0</td>\n",
       "      <td>70.0</td>\n",
       "      <td>26.97</td>\n",
       "      <td>77.000000</td>\n",
       "      <td>0</td>\n",
       "    </tr>\n",
       "    <tr>\n",
       "      <th>1</th>\n",
       "      <td>0</td>\n",
       "      <td>46</td>\n",
       "      <td>0.0</td>\n",
       "      <td>0.00000</td>\n",
       "      <td>0</td>\n",
       "      <td>0</td>\n",
       "      <td>0</td>\n",
       "      <td>250.0</td>\n",
       "      <td>121.0</td>\n",
       "      <td>81.0</td>\n",
       "      <td>28.73</td>\n",
       "      <td>76.000000</td>\n",
       "      <td>0</td>\n",
       "    </tr>\n",
       "    <tr>\n",
       "      <th>2</th>\n",
       "      <td>1</td>\n",
       "      <td>48</td>\n",
       "      <td>20.0</td>\n",
       "      <td>0.00000</td>\n",
       "      <td>0</td>\n",
       "      <td>0</td>\n",
       "      <td>0</td>\n",
       "      <td>245.0</td>\n",
       "      <td>127.5</td>\n",
       "      <td>80.0</td>\n",
       "      <td>25.34</td>\n",
       "      <td>70.000000</td>\n",
       "      <td>0</td>\n",
       "    </tr>\n",
       "    <tr>\n",
       "      <th>3</th>\n",
       "      <td>0</td>\n",
       "      <td>61</td>\n",
       "      <td>30.0</td>\n",
       "      <td>0.00000</td>\n",
       "      <td>0</td>\n",
       "      <td>1</td>\n",
       "      <td>0</td>\n",
       "      <td>225.0</td>\n",
       "      <td>150.0</td>\n",
       "      <td>95.0</td>\n",
       "      <td>28.58</td>\n",
       "      <td>103.000000</td>\n",
       "      <td>1</td>\n",
       "    </tr>\n",
       "    <tr>\n",
       "      <th>4</th>\n",
       "      <td>0</td>\n",
       "      <td>46</td>\n",
       "      <td>23.0</td>\n",
       "      <td>0.00000</td>\n",
       "      <td>0</td>\n",
       "      <td>0</td>\n",
       "      <td>0</td>\n",
       "      <td>285.0</td>\n",
       "      <td>130.0</td>\n",
       "      <td>84.0</td>\n",
       "      <td>23.10</td>\n",
       "      <td>85.000000</td>\n",
       "      <td>0</td>\n",
       "    </tr>\n",
       "    <tr>\n",
       "      <th>...</th>\n",
       "      <td>...</td>\n",
       "      <td>...</td>\n",
       "      <td>...</td>\n",
       "      <td>...</td>\n",
       "      <td>...</td>\n",
       "      <td>...</td>\n",
       "      <td>...</td>\n",
       "      <td>...</td>\n",
       "      <td>...</td>\n",
       "      <td>...</td>\n",
       "      <td>...</td>\n",
       "      <td>...</td>\n",
       "      <td>...</td>\n",
       "    </tr>\n",
       "    <tr>\n",
       "      <th>4233</th>\n",
       "      <td>1</td>\n",
       "      <td>50</td>\n",
       "      <td>1.0</td>\n",
       "      <td>0.00000</td>\n",
       "      <td>0</td>\n",
       "      <td>1</td>\n",
       "      <td>0</td>\n",
       "      <td>313.0</td>\n",
       "      <td>179.0</td>\n",
       "      <td>92.0</td>\n",
       "      <td>25.97</td>\n",
       "      <td>86.000000</td>\n",
       "      <td>1</td>\n",
       "    </tr>\n",
       "    <tr>\n",
       "      <th>4234</th>\n",
       "      <td>1</td>\n",
       "      <td>51</td>\n",
       "      <td>43.0</td>\n",
       "      <td>0.00000</td>\n",
       "      <td>0</td>\n",
       "      <td>0</td>\n",
       "      <td>0</td>\n",
       "      <td>207.0</td>\n",
       "      <td>126.5</td>\n",
       "      <td>80.0</td>\n",
       "      <td>19.71</td>\n",
       "      <td>68.000000</td>\n",
       "      <td>0</td>\n",
       "    </tr>\n",
       "    <tr>\n",
       "      <th>4235</th>\n",
       "      <td>0</td>\n",
       "      <td>48</td>\n",
       "      <td>20.0</td>\n",
       "      <td>0.02963</td>\n",
       "      <td>0</td>\n",
       "      <td>0</td>\n",
       "      <td>0</td>\n",
       "      <td>248.0</td>\n",
       "      <td>131.0</td>\n",
       "      <td>72.0</td>\n",
       "      <td>22.00</td>\n",
       "      <td>86.000000</td>\n",
       "      <td>0</td>\n",
       "    </tr>\n",
       "    <tr>\n",
       "      <th>4236</th>\n",
       "      <td>0</td>\n",
       "      <td>44</td>\n",
       "      <td>15.0</td>\n",
       "      <td>0.00000</td>\n",
       "      <td>0</td>\n",
       "      <td>0</td>\n",
       "      <td>0</td>\n",
       "      <td>210.0</td>\n",
       "      <td>126.5</td>\n",
       "      <td>87.0</td>\n",
       "      <td>19.16</td>\n",
       "      <td>81.966753</td>\n",
       "      <td>0</td>\n",
       "    </tr>\n",
       "    <tr>\n",
       "      <th>4237</th>\n",
       "      <td>0</td>\n",
       "      <td>52</td>\n",
       "      <td>0.0</td>\n",
       "      <td>0.00000</td>\n",
       "      <td>0</td>\n",
       "      <td>0</td>\n",
       "      <td>0</td>\n",
       "      <td>269.0</td>\n",
       "      <td>133.5</td>\n",
       "      <td>83.0</td>\n",
       "      <td>21.47</td>\n",
       "      <td>107.000000</td>\n",
       "      <td>0</td>\n",
       "    </tr>\n",
       "  </tbody>\n",
       "</table>\n",
       "<p>4238 rows × 13 columns</p>\n",
       "</div>"
      ],
      "text/plain": [
       "      Gender  age  cigsPerDay   BPMeds  prevalentStroke  prevalentHyp  \\\n",
       "0          1   39         0.0  0.00000                0             0   \n",
       "1          0   46         0.0  0.00000                0             0   \n",
       "2          1   48        20.0  0.00000                0             0   \n",
       "3          0   61        30.0  0.00000                0             1   \n",
       "4          0   46        23.0  0.00000                0             0   \n",
       "...      ...  ...         ...      ...              ...           ...   \n",
       "4233       1   50         1.0  0.00000                0             1   \n",
       "4234       1   51        43.0  0.00000                0             0   \n",
       "4235       0   48        20.0  0.02963                0             0   \n",
       "4236       0   44        15.0  0.00000                0             0   \n",
       "4237       0   52         0.0  0.00000                0             0   \n",
       "\n",
       "      diabetes  totChol  sysBP  diaBP    BMI     glucose  TenYearCHD  \n",
       "0            0    195.0  106.0   70.0  26.97   77.000000           0  \n",
       "1            0    250.0  121.0   81.0  28.73   76.000000           0  \n",
       "2            0    245.0  127.5   80.0  25.34   70.000000           0  \n",
       "3            0    225.0  150.0   95.0  28.58  103.000000           1  \n",
       "4            0    285.0  130.0   84.0  23.10   85.000000           0  \n",
       "...        ...      ...    ...    ...    ...         ...         ...  \n",
       "4233         0    313.0  179.0   92.0  25.97   86.000000           1  \n",
       "4234         0    207.0  126.5   80.0  19.71   68.000000           0  \n",
       "4235         0    248.0  131.0   72.0  22.00   86.000000           0  \n",
       "4236         0    210.0  126.5   87.0  19.16   81.966753           0  \n",
       "4237         0    269.0  133.5   83.0  21.47  107.000000           0  \n",
       "\n",
       "[4238 rows x 13 columns]"
      ]
     },
     "execution_count": 28,
     "metadata": {},
     "output_type": "execute_result"
    }
   ],
   "source": [
    "df = pd.DataFrame(df)\n",
    "df.rename(columns={'male': 'Gender'}, inplace=True)\n",
    "columns_to_drop = ['education']\n",
    "df.drop(columns=columns_to_drop, inplace=True)\n",
    "df"
   ]
  },
  {
   "cell_type": "code",
   "execution_count": 29,
   "metadata": {},
   "outputs": [
    {
     "data": {
      "text/plain": [
       "TenYearCHD\n",
       "0    3594\n",
       "1     644\n",
       "Name: count, dtype: int64"
      ]
     },
     "execution_count": 29,
     "metadata": {},
     "output_type": "execute_result"
    }
   ],
   "source": [
    "df['TenYearCHD'].value_counts()"
   ]
  },
  {
   "cell_type": "code",
   "execution_count": 30,
   "metadata": {},
   "outputs": [
    {
     "data": {
      "text/html": [
       "<div>\n",
       "<style scoped>\n",
       "    .dataframe tbody tr th:only-of-type {\n",
       "        vertical-align: middle;\n",
       "    }\n",
       "\n",
       "    .dataframe tbody tr th {\n",
       "        vertical-align: top;\n",
       "    }\n",
       "\n",
       "    .dataframe thead th {\n",
       "        text-align: right;\n",
       "    }\n",
       "</style>\n",
       "<table border=\"1\" class=\"dataframe\">\n",
       "  <thead>\n",
       "    <tr style=\"text-align: right;\">\n",
       "      <th></th>\n",
       "      <th>age</th>\n",
       "      <th>cigsPerDay</th>\n",
       "      <th>BPMeds</th>\n",
       "      <th>prevalentStroke</th>\n",
       "      <th>prevalentHyp</th>\n",
       "      <th>diabetes</th>\n",
       "      <th>totChol</th>\n",
       "      <th>sysBP</th>\n",
       "      <th>diaBP</th>\n",
       "      <th>BMI</th>\n",
       "      <th>glucose</th>\n",
       "      <th>TenYearCHD</th>\n",
       "      <th>Gender</th>\n",
       "    </tr>\n",
       "  </thead>\n",
       "  <tbody>\n",
       "    <tr>\n",
       "      <th>0</th>\n",
       "      <td>39</td>\n",
       "      <td>0.000000</td>\n",
       "      <td>0.0</td>\n",
       "      <td>0</td>\n",
       "      <td>0</td>\n",
       "      <td>0</td>\n",
       "      <td>195.000000</td>\n",
       "      <td>106.000000</td>\n",
       "      <td>70.000000</td>\n",
       "      <td>26.970000</td>\n",
       "      <td>77.000000</td>\n",
       "      <td>0</td>\n",
       "      <td>1</td>\n",
       "    </tr>\n",
       "    <tr>\n",
       "      <th>1</th>\n",
       "      <td>46</td>\n",
       "      <td>0.000000</td>\n",
       "      <td>0.0</td>\n",
       "      <td>0</td>\n",
       "      <td>0</td>\n",
       "      <td>0</td>\n",
       "      <td>250.000000</td>\n",
       "      <td>121.000000</td>\n",
       "      <td>81.000000</td>\n",
       "      <td>28.730000</td>\n",
       "      <td>76.000000</td>\n",
       "      <td>0</td>\n",
       "      <td>0</td>\n",
       "    </tr>\n",
       "    <tr>\n",
       "      <th>2</th>\n",
       "      <td>48</td>\n",
       "      <td>20.000000</td>\n",
       "      <td>0.0</td>\n",
       "      <td>0</td>\n",
       "      <td>0</td>\n",
       "      <td>0</td>\n",
       "      <td>245.000000</td>\n",
       "      <td>127.500000</td>\n",
       "      <td>80.000000</td>\n",
       "      <td>25.340000</td>\n",
       "      <td>70.000000</td>\n",
       "      <td>0</td>\n",
       "      <td>1</td>\n",
       "    </tr>\n",
       "    <tr>\n",
       "      <th>3</th>\n",
       "      <td>61</td>\n",
       "      <td>30.000000</td>\n",
       "      <td>0.0</td>\n",
       "      <td>0</td>\n",
       "      <td>1</td>\n",
       "      <td>0</td>\n",
       "      <td>225.000000</td>\n",
       "      <td>150.000000</td>\n",
       "      <td>95.000000</td>\n",
       "      <td>28.580000</td>\n",
       "      <td>103.000000</td>\n",
       "      <td>1</td>\n",
       "      <td>0</td>\n",
       "    </tr>\n",
       "    <tr>\n",
       "      <th>4</th>\n",
       "      <td>46</td>\n",
       "      <td>23.000000</td>\n",
       "      <td>0.0</td>\n",
       "      <td>0</td>\n",
       "      <td>0</td>\n",
       "      <td>0</td>\n",
       "      <td>285.000000</td>\n",
       "      <td>130.000000</td>\n",
       "      <td>84.000000</td>\n",
       "      <td>23.100000</td>\n",
       "      <td>85.000000</td>\n",
       "      <td>0</td>\n",
       "      <td>0</td>\n",
       "    </tr>\n",
       "    <tr>\n",
       "      <th>...</th>\n",
       "      <td>...</td>\n",
       "      <td>...</td>\n",
       "      <td>...</td>\n",
       "      <td>...</td>\n",
       "      <td>...</td>\n",
       "      <td>...</td>\n",
       "      <td>...</td>\n",
       "      <td>...</td>\n",
       "      <td>...</td>\n",
       "      <td>...</td>\n",
       "      <td>...</td>\n",
       "      <td>...</td>\n",
       "      <td>...</td>\n",
       "    </tr>\n",
       "    <tr>\n",
       "      <th>4833</th>\n",
       "      <td>43</td>\n",
       "      <td>4.580894</td>\n",
       "      <td>0.0</td>\n",
       "      <td>0</td>\n",
       "      <td>0</td>\n",
       "      <td>0</td>\n",
       "      <td>221.508814</td>\n",
       "      <td>107.289661</td>\n",
       "      <td>69.491186</td>\n",
       "      <td>24.738661</td>\n",
       "      <td>82.474270</td>\n",
       "      <td>0</td>\n",
       "      <td>1</td>\n",
       "    </tr>\n",
       "    <tr>\n",
       "      <th>4834</th>\n",
       "      <td>46</td>\n",
       "      <td>24.981679</td>\n",
       "      <td>0.0</td>\n",
       "      <td>0</td>\n",
       "      <td>0</td>\n",
       "      <td>0</td>\n",
       "      <td>172.974350</td>\n",
       "      <td>117.472518</td>\n",
       "      <td>77.472518</td>\n",
       "      <td>20.229047</td>\n",
       "      <td>74.978015</td>\n",
       "      <td>0</td>\n",
       "      <td>1</td>\n",
       "    </tr>\n",
       "    <tr>\n",
       "      <th>4835</th>\n",
       "      <td>55</td>\n",
       "      <td>0.000000</td>\n",
       "      <td>0.0</td>\n",
       "      <td>0</td>\n",
       "      <td>0</td>\n",
       "      <td>0</td>\n",
       "      <td>260.410255</td>\n",
       "      <td>126.602564</td>\n",
       "      <td>76.512819</td>\n",
       "      <td>25.142051</td>\n",
       "      <td>70.000000</td>\n",
       "      <td>0</td>\n",
       "      <td>1</td>\n",
       "    </tr>\n",
       "    <tr>\n",
       "      <th>4836</th>\n",
       "      <td>44</td>\n",
       "      <td>20.000000</td>\n",
       "      <td>0.0</td>\n",
       "      <td>0</td>\n",
       "      <td>0</td>\n",
       "      <td>0</td>\n",
       "      <td>241.756335</td>\n",
       "      <td>127.731690</td>\n",
       "      <td>82.780284</td>\n",
       "      <td>25.687536</td>\n",
       "      <td>70.926761</td>\n",
       "      <td>0</td>\n",
       "      <td>1</td>\n",
       "    </tr>\n",
       "    <tr>\n",
       "      <th>4837</th>\n",
       "      <td>35</td>\n",
       "      <td>26.885313</td>\n",
       "      <td>0.0</td>\n",
       "      <td>0</td>\n",
       "      <td>0</td>\n",
       "      <td>0</td>\n",
       "      <td>248.491750</td>\n",
       "      <td>120.885313</td>\n",
       "      <td>79.262376</td>\n",
       "      <td>29.752648</td>\n",
       "      <td>81.885313</td>\n",
       "      <td>0</td>\n",
       "      <td>1</td>\n",
       "    </tr>\n",
       "  </tbody>\n",
       "</table>\n",
       "<p>4838 rows × 13 columns</p>\n",
       "</div>"
      ],
      "text/plain": [
       "      age  cigsPerDay  BPMeds  prevalentStroke  prevalentHyp  diabetes  \\\n",
       "0      39    0.000000     0.0                0             0         0   \n",
       "1      46    0.000000     0.0                0             0         0   \n",
       "2      48   20.000000     0.0                0             0         0   \n",
       "3      61   30.000000     0.0                0             1         0   \n",
       "4      46   23.000000     0.0                0             0         0   \n",
       "...   ...         ...     ...              ...           ...       ...   \n",
       "4833   43    4.580894     0.0                0             0         0   \n",
       "4834   46   24.981679     0.0                0             0         0   \n",
       "4835   55    0.000000     0.0                0             0         0   \n",
       "4836   44   20.000000     0.0                0             0         0   \n",
       "4837   35   26.885313     0.0                0             0         0   \n",
       "\n",
       "         totChol       sysBP      diaBP        BMI     glucose  TenYearCHD  \\\n",
       "0     195.000000  106.000000  70.000000  26.970000   77.000000           0   \n",
       "1     250.000000  121.000000  81.000000  28.730000   76.000000           0   \n",
       "2     245.000000  127.500000  80.000000  25.340000   70.000000           0   \n",
       "3     225.000000  150.000000  95.000000  28.580000  103.000000           1   \n",
       "4     285.000000  130.000000  84.000000  23.100000   85.000000           0   \n",
       "...          ...         ...        ...        ...         ...         ...   \n",
       "4833  221.508814  107.289661  69.491186  24.738661   82.474270           0   \n",
       "4834  172.974350  117.472518  77.472518  20.229047   74.978015           0   \n",
       "4835  260.410255  126.602564  76.512819  25.142051   70.000000           0   \n",
       "4836  241.756335  127.731690  82.780284  25.687536   70.926761           0   \n",
       "4837  248.491750  120.885313  79.262376  29.752648   81.885313           0   \n",
       "\n",
       "      Gender  \n",
       "0          1  \n",
       "1          0  \n",
       "2          1  \n",
       "3          0  \n",
       "4          0  \n",
       "...      ...  \n",
       "4833       1  \n",
       "4834       1  \n",
       "4835       1  \n",
       "4836       1  \n",
       "4837       1  \n",
       "\n",
       "[4838 rows x 13 columns]"
      ]
     },
     "execution_count": 30,
     "metadata": {},
     "output_type": "execute_result"
    }
   ],
   "source": [
    "\n",
    "X = df.drop(columns=['Gender'])  \n",
    "y = df['Gender']  \n",
    "smote = SMOTE(sampling_strategy='auto', random_state=42)  \n",
    "X_resampled, y_resampled = smote.fit_resample(X, y)\n",
    "df = pd.concat([X_resampled, y_resampled], axis=1)\n",
    "df"
   ]
  },
  {
   "cell_type": "code",
   "execution_count": 31,
   "metadata": {},
   "outputs": [
    {
     "data": {
      "text/html": [
       "<div>\n",
       "<style scoped>\n",
       "    .dataframe tbody tr th:only-of-type {\n",
       "        vertical-align: middle;\n",
       "    }\n",
       "\n",
       "    .dataframe tbody tr th {\n",
       "        vertical-align: top;\n",
       "    }\n",
       "\n",
       "    .dataframe thead th {\n",
       "        text-align: right;\n",
       "    }\n",
       "</style>\n",
       "<table border=\"1\" class=\"dataframe\">\n",
       "  <thead>\n",
       "    <tr style=\"text-align: right;\">\n",
       "      <th></th>\n",
       "      <th>age</th>\n",
       "      <th>cigsPerDay</th>\n",
       "      <th>BPMeds</th>\n",
       "      <th>prevalentStroke</th>\n",
       "      <th>diabetes</th>\n",
       "      <th>totChol</th>\n",
       "      <th>sysBP</th>\n",
       "      <th>diaBP</th>\n",
       "      <th>BMI</th>\n",
       "      <th>glucose</th>\n",
       "      <th>TenYearCHD</th>\n",
       "      <th>Gender</th>\n",
       "      <th>prevalentHyp</th>\n",
       "    </tr>\n",
       "  </thead>\n",
       "  <tbody>\n",
       "    <tr>\n",
       "      <th>0</th>\n",
       "      <td>39</td>\n",
       "      <td>0.000000</td>\n",
       "      <td>0.000000</td>\n",
       "      <td>0</td>\n",
       "      <td>0</td>\n",
       "      <td>195.000000</td>\n",
       "      <td>106.000000</td>\n",
       "      <td>70.000000</td>\n",
       "      <td>26.970000</td>\n",
       "      <td>77.000000</td>\n",
       "      <td>0</td>\n",
       "      <td>1</td>\n",
       "      <td>0</td>\n",
       "    </tr>\n",
       "    <tr>\n",
       "      <th>1</th>\n",
       "      <td>46</td>\n",
       "      <td>0.000000</td>\n",
       "      <td>0.000000</td>\n",
       "      <td>0</td>\n",
       "      <td>0</td>\n",
       "      <td>250.000000</td>\n",
       "      <td>121.000000</td>\n",
       "      <td>81.000000</td>\n",
       "      <td>28.730000</td>\n",
       "      <td>76.000000</td>\n",
       "      <td>0</td>\n",
       "      <td>0</td>\n",
       "      <td>0</td>\n",
       "    </tr>\n",
       "    <tr>\n",
       "      <th>2</th>\n",
       "      <td>48</td>\n",
       "      <td>20.000000</td>\n",
       "      <td>0.000000</td>\n",
       "      <td>0</td>\n",
       "      <td>0</td>\n",
       "      <td>245.000000</td>\n",
       "      <td>127.500000</td>\n",
       "      <td>80.000000</td>\n",
       "      <td>25.340000</td>\n",
       "      <td>70.000000</td>\n",
       "      <td>0</td>\n",
       "      <td>1</td>\n",
       "      <td>0</td>\n",
       "    </tr>\n",
       "    <tr>\n",
       "      <th>3</th>\n",
       "      <td>61</td>\n",
       "      <td>30.000000</td>\n",
       "      <td>0.000000</td>\n",
       "      <td>0</td>\n",
       "      <td>0</td>\n",
       "      <td>225.000000</td>\n",
       "      <td>150.000000</td>\n",
       "      <td>95.000000</td>\n",
       "      <td>28.580000</td>\n",
       "      <td>103.000000</td>\n",
       "      <td>1</td>\n",
       "      <td>0</td>\n",
       "      <td>1</td>\n",
       "    </tr>\n",
       "    <tr>\n",
       "      <th>4</th>\n",
       "      <td>46</td>\n",
       "      <td>23.000000</td>\n",
       "      <td>0.000000</td>\n",
       "      <td>0</td>\n",
       "      <td>0</td>\n",
       "      <td>285.000000</td>\n",
       "      <td>130.000000</td>\n",
       "      <td>84.000000</td>\n",
       "      <td>23.100000</td>\n",
       "      <td>85.000000</td>\n",
       "      <td>0</td>\n",
       "      <td>0</td>\n",
       "      <td>0</td>\n",
       "    </tr>\n",
       "    <tr>\n",
       "      <th>...</th>\n",
       "      <td>...</td>\n",
       "      <td>...</td>\n",
       "      <td>...</td>\n",
       "      <td>...</td>\n",
       "      <td>...</td>\n",
       "      <td>...</td>\n",
       "      <td>...</td>\n",
       "      <td>...</td>\n",
       "      <td>...</td>\n",
       "      <td>...</td>\n",
       "      <td>...</td>\n",
       "      <td>...</td>\n",
       "      <td>...</td>\n",
       "    </tr>\n",
       "    <tr>\n",
       "      <th>6803</th>\n",
       "      <td>56</td>\n",
       "      <td>0.000000</td>\n",
       "      <td>0.000000</td>\n",
       "      <td>0</td>\n",
       "      <td>0</td>\n",
       "      <td>151.445434</td>\n",
       "      <td>99.120824</td>\n",
       "      <td>62.241648</td>\n",
       "      <td>24.988808</td>\n",
       "      <td>72.117436</td>\n",
       "      <td>0</td>\n",
       "      <td>0</td>\n",
       "      <td>1</td>\n",
       "    </tr>\n",
       "    <tr>\n",
       "      <th>6804</th>\n",
       "      <td>57</td>\n",
       "      <td>0.000000</td>\n",
       "      <td>0.000000</td>\n",
       "      <td>0</td>\n",
       "      <td>0</td>\n",
       "      <td>240.983360</td>\n",
       "      <td>143.491680</td>\n",
       "      <td>85.483360</td>\n",
       "      <td>24.014163</td>\n",
       "      <td>81.983670</td>\n",
       "      <td>0</td>\n",
       "      <td>0</td>\n",
       "      <td>1</td>\n",
       "    </tr>\n",
       "    <tr>\n",
       "      <th>6805</th>\n",
       "      <td>58</td>\n",
       "      <td>0.000000</td>\n",
       "      <td>0.000000</td>\n",
       "      <td>0</td>\n",
       "      <td>0</td>\n",
       "      <td>313.300748</td>\n",
       "      <td>157.300748</td>\n",
       "      <td>102.398503</td>\n",
       "      <td>24.773728</td>\n",
       "      <td>81.985585</td>\n",
       "      <td>0</td>\n",
       "      <td>0</td>\n",
       "      <td>1</td>\n",
       "    </tr>\n",
       "    <tr>\n",
       "      <th>6806</th>\n",
       "      <td>56</td>\n",
       "      <td>2.722124</td>\n",
       "      <td>0.000000</td>\n",
       "      <td>0</td>\n",
       "      <td>0</td>\n",
       "      <td>265.463127</td>\n",
       "      <td>149.536873</td>\n",
       "      <td>83.722124</td>\n",
       "      <td>28.725764</td>\n",
       "      <td>73.000000</td>\n",
       "      <td>0</td>\n",
       "      <td>0</td>\n",
       "      <td>1</td>\n",
       "    </tr>\n",
       "    <tr>\n",
       "      <th>6807</th>\n",
       "      <td>55</td>\n",
       "      <td>0.000000</td>\n",
       "      <td>0.748384</td>\n",
       "      <td>0</td>\n",
       "      <td>0</td>\n",
       "      <td>287.000000</td>\n",
       "      <td>147.993537</td>\n",
       "      <td>96.238690</td>\n",
       "      <td>22.215941</td>\n",
       "      <td>77.012925</td>\n",
       "      <td>0</td>\n",
       "      <td>0</td>\n",
       "      <td>1</td>\n",
       "    </tr>\n",
       "  </tbody>\n",
       "</table>\n",
       "<p>6808 rows × 13 columns</p>\n",
       "</div>"
      ],
      "text/plain": [
       "      age  cigsPerDay    BPMeds  prevalentStroke  diabetes     totChol  \\\n",
       "0      39    0.000000  0.000000                0         0  195.000000   \n",
       "1      46    0.000000  0.000000                0         0  250.000000   \n",
       "2      48   20.000000  0.000000                0         0  245.000000   \n",
       "3      61   30.000000  0.000000                0         0  225.000000   \n",
       "4      46   23.000000  0.000000                0         0  285.000000   \n",
       "...   ...         ...       ...              ...       ...         ...   \n",
       "6803   56    0.000000  0.000000                0         0  151.445434   \n",
       "6804   57    0.000000  0.000000                0         0  240.983360   \n",
       "6805   58    0.000000  0.000000                0         0  313.300748   \n",
       "6806   56    2.722124  0.000000                0         0  265.463127   \n",
       "6807   55    0.000000  0.748384                0         0  287.000000   \n",
       "\n",
       "           sysBP       diaBP        BMI     glucose  TenYearCHD  Gender  \\\n",
       "0     106.000000   70.000000  26.970000   77.000000           0       1   \n",
       "1     121.000000   81.000000  28.730000   76.000000           0       0   \n",
       "2     127.500000   80.000000  25.340000   70.000000           0       1   \n",
       "3     150.000000   95.000000  28.580000  103.000000           1       0   \n",
       "4     130.000000   84.000000  23.100000   85.000000           0       0   \n",
       "...          ...         ...        ...         ...         ...     ...   \n",
       "6803   99.120824   62.241648  24.988808   72.117436           0       0   \n",
       "6804  143.491680   85.483360  24.014163   81.983670           0       0   \n",
       "6805  157.300748  102.398503  24.773728   81.985585           0       0   \n",
       "6806  149.536873   83.722124  28.725764   73.000000           0       0   \n",
       "6807  147.993537   96.238690  22.215941   77.012925           0       0   \n",
       "\n",
       "      prevalentHyp  \n",
       "0                0  \n",
       "1                0  \n",
       "2                0  \n",
       "3                1  \n",
       "4                0  \n",
       "...            ...  \n",
       "6803             1  \n",
       "6804             1  \n",
       "6805             1  \n",
       "6806             1  \n",
       "6807             1  \n",
       "\n",
       "[6808 rows x 13 columns]"
      ]
     },
     "execution_count": 31,
     "metadata": {},
     "output_type": "execute_result"
    }
   ],
   "source": [
    "X = df.drop(columns=['prevalentHyp'])  \n",
    "y = df['prevalentHyp']  \n",
    "smote = SMOTE(sampling_strategy='auto', random_state=42)  \n",
    "X_resampled, y_resampled = smote.fit_resample(X, y)\n",
    "df = pd.concat([X_resampled, y_resampled], axis=1)\n",
    "df"
   ]
  },
  {
   "cell_type": "code",
   "execution_count": 32,
   "metadata": {},
   "outputs": [
    {
     "data": {
      "text/html": [
       "<div>\n",
       "<style scoped>\n",
       "    .dataframe tbody tr th:only-of-type {\n",
       "        vertical-align: middle;\n",
       "    }\n",
       "\n",
       "    .dataframe tbody tr th {\n",
       "        vertical-align: top;\n",
       "    }\n",
       "\n",
       "    .dataframe thead th {\n",
       "        text-align: right;\n",
       "    }\n",
       "</style>\n",
       "<table border=\"1\" class=\"dataframe\">\n",
       "  <thead>\n",
       "    <tr style=\"text-align: right;\">\n",
       "      <th></th>\n",
       "      <th>age</th>\n",
       "      <th>cigsPerDay</th>\n",
       "      <th>BPMeds</th>\n",
       "      <th>diabetes</th>\n",
       "      <th>totChol</th>\n",
       "      <th>sysBP</th>\n",
       "      <th>diaBP</th>\n",
       "      <th>BMI</th>\n",
       "      <th>glucose</th>\n",
       "      <th>TenYearCHD</th>\n",
       "      <th>Gender</th>\n",
       "      <th>prevalentHyp</th>\n",
       "      <th>prevalentStroke</th>\n",
       "    </tr>\n",
       "  </thead>\n",
       "  <tbody>\n",
       "    <tr>\n",
       "      <th>0</th>\n",
       "      <td>39</td>\n",
       "      <td>0.000000</td>\n",
       "      <td>0.000000</td>\n",
       "      <td>0</td>\n",
       "      <td>195.000000</td>\n",
       "      <td>106.000000</td>\n",
       "      <td>70.000000</td>\n",
       "      <td>26.970000</td>\n",
       "      <td>77.000000</td>\n",
       "      <td>0</td>\n",
       "      <td>1</td>\n",
       "      <td>0</td>\n",
       "      <td>0</td>\n",
       "    </tr>\n",
       "    <tr>\n",
       "      <th>1</th>\n",
       "      <td>46</td>\n",
       "      <td>0.000000</td>\n",
       "      <td>0.000000</td>\n",
       "      <td>0</td>\n",
       "      <td>250.000000</td>\n",
       "      <td>121.000000</td>\n",
       "      <td>81.000000</td>\n",
       "      <td>28.730000</td>\n",
       "      <td>76.000000</td>\n",
       "      <td>0</td>\n",
       "      <td>0</td>\n",
       "      <td>0</td>\n",
       "      <td>0</td>\n",
       "    </tr>\n",
       "    <tr>\n",
       "      <th>2</th>\n",
       "      <td>48</td>\n",
       "      <td>20.000000</td>\n",
       "      <td>0.000000</td>\n",
       "      <td>0</td>\n",
       "      <td>245.000000</td>\n",
       "      <td>127.500000</td>\n",
       "      <td>80.000000</td>\n",
       "      <td>25.340000</td>\n",
       "      <td>70.000000</td>\n",
       "      <td>0</td>\n",
       "      <td>1</td>\n",
       "      <td>0</td>\n",
       "      <td>0</td>\n",
       "    </tr>\n",
       "    <tr>\n",
       "      <th>3</th>\n",
       "      <td>61</td>\n",
       "      <td>30.000000</td>\n",
       "      <td>0.000000</td>\n",
       "      <td>0</td>\n",
       "      <td>225.000000</td>\n",
       "      <td>150.000000</td>\n",
       "      <td>95.000000</td>\n",
       "      <td>28.580000</td>\n",
       "      <td>103.000000</td>\n",
       "      <td>1</td>\n",
       "      <td>0</td>\n",
       "      <td>1</td>\n",
       "      <td>0</td>\n",
       "    </tr>\n",
       "    <tr>\n",
       "      <th>4</th>\n",
       "      <td>46</td>\n",
       "      <td>23.000000</td>\n",
       "      <td>0.000000</td>\n",
       "      <td>0</td>\n",
       "      <td>285.000000</td>\n",
       "      <td>130.000000</td>\n",
       "      <td>84.000000</td>\n",
       "      <td>23.100000</td>\n",
       "      <td>85.000000</td>\n",
       "      <td>0</td>\n",
       "      <td>0</td>\n",
       "      <td>0</td>\n",
       "      <td>0</td>\n",
       "    </tr>\n",
       "    <tr>\n",
       "      <th>...</th>\n",
       "      <td>...</td>\n",
       "      <td>...</td>\n",
       "      <td>...</td>\n",
       "      <td>...</td>\n",
       "      <td>...</td>\n",
       "      <td>...</td>\n",
       "      <td>...</td>\n",
       "      <td>...</td>\n",
       "      <td>...</td>\n",
       "      <td>...</td>\n",
       "      <td>...</td>\n",
       "      <td>...</td>\n",
       "      <td>...</td>\n",
       "    </tr>\n",
       "    <tr>\n",
       "      <th>13561</th>\n",
       "      <td>52</td>\n",
       "      <td>19.519662</td>\n",
       "      <td>0.024017</td>\n",
       "      <td>0</td>\n",
       "      <td>260.336236</td>\n",
       "      <td>158.024017</td>\n",
       "      <td>95.855899</td>\n",
       "      <td>21.343642</td>\n",
       "      <td>81.975983</td>\n",
       "      <td>0</td>\n",
       "      <td>0</td>\n",
       "      <td>1</td>\n",
       "      <td>1</td>\n",
       "    </tr>\n",
       "    <tr>\n",
       "      <th>13562</th>\n",
       "      <td>61</td>\n",
       "      <td>0.000000</td>\n",
       "      <td>0.019816</td>\n",
       "      <td>0</td>\n",
       "      <td>300.267628</td>\n",
       "      <td>145.987283</td>\n",
       "      <td>73.605201</td>\n",
       "      <td>21.771023</td>\n",
       "      <td>140.363007</td>\n",
       "      <td>0</td>\n",
       "      <td>0</td>\n",
       "      <td>0</td>\n",
       "      <td>1</td>\n",
       "    </tr>\n",
       "    <tr>\n",
       "      <th>13563</th>\n",
       "      <td>53</td>\n",
       "      <td>0.000000</td>\n",
       "      <td>0.118656</td>\n",
       "      <td>0</td>\n",
       "      <td>317.440329</td>\n",
       "      <td>148.457476</td>\n",
       "      <td>91.813443</td>\n",
       "      <td>24.450700</td>\n",
       "      <td>124.117969</td>\n",
       "      <td>0</td>\n",
       "      <td>0</td>\n",
       "      <td>0</td>\n",
       "      <td>1</td>\n",
       "    </tr>\n",
       "    <tr>\n",
       "      <th>13564</th>\n",
       "      <td>60</td>\n",
       "      <td>0.000000</td>\n",
       "      <td>1.000000</td>\n",
       "      <td>0</td>\n",
       "      <td>236.599542</td>\n",
       "      <td>191.851937</td>\n",
       "      <td>110.570387</td>\n",
       "      <td>41.609419</td>\n",
       "      <td>88.822782</td>\n",
       "      <td>0</td>\n",
       "      <td>0</td>\n",
       "      <td>1</td>\n",
       "      <td>1</td>\n",
       "    </tr>\n",
       "    <tr>\n",
       "      <th>13565</th>\n",
       "      <td>66</td>\n",
       "      <td>13.595313</td>\n",
       "      <td>0.000000</td>\n",
       "      <td>0</td>\n",
       "      <td>283.876251</td>\n",
       "      <td>154.719063</td>\n",
       "      <td>88.127084</td>\n",
       "      <td>29.415181</td>\n",
       "      <td>77.187292</td>\n",
       "      <td>1</td>\n",
       "      <td>0</td>\n",
       "      <td>1</td>\n",
       "      <td>1</td>\n",
       "    </tr>\n",
       "  </tbody>\n",
       "</table>\n",
       "<p>13566 rows × 13 columns</p>\n",
       "</div>"
      ],
      "text/plain": [
       "       age  cigsPerDay    BPMeds  diabetes     totChol       sysBP  \\\n",
       "0       39    0.000000  0.000000         0  195.000000  106.000000   \n",
       "1       46    0.000000  0.000000         0  250.000000  121.000000   \n",
       "2       48   20.000000  0.000000         0  245.000000  127.500000   \n",
       "3       61   30.000000  0.000000         0  225.000000  150.000000   \n",
       "4       46   23.000000  0.000000         0  285.000000  130.000000   \n",
       "...    ...         ...       ...       ...         ...         ...   \n",
       "13561   52   19.519662  0.024017         0  260.336236  158.024017   \n",
       "13562   61    0.000000  0.019816         0  300.267628  145.987283   \n",
       "13563   53    0.000000  0.118656         0  317.440329  148.457476   \n",
       "13564   60    0.000000  1.000000         0  236.599542  191.851937   \n",
       "13565   66   13.595313  0.000000         0  283.876251  154.719063   \n",
       "\n",
       "            diaBP        BMI     glucose  TenYearCHD  Gender  prevalentHyp  \\\n",
       "0       70.000000  26.970000   77.000000           0       1             0   \n",
       "1       81.000000  28.730000   76.000000           0       0             0   \n",
       "2       80.000000  25.340000   70.000000           0       1             0   \n",
       "3       95.000000  28.580000  103.000000           1       0             1   \n",
       "4       84.000000  23.100000   85.000000           0       0             0   \n",
       "...           ...        ...         ...         ...     ...           ...   \n",
       "13561   95.855899  21.343642   81.975983           0       0             1   \n",
       "13562   73.605201  21.771023  140.363007           0       0             0   \n",
       "13563   91.813443  24.450700  124.117969           0       0             0   \n",
       "13564  110.570387  41.609419   88.822782           0       0             1   \n",
       "13565   88.127084  29.415181   77.187292           1       0             1   \n",
       "\n",
       "       prevalentStroke  \n",
       "0                    0  \n",
       "1                    0  \n",
       "2                    0  \n",
       "3                    0  \n",
       "4                    0  \n",
       "...                ...  \n",
       "13561                1  \n",
       "13562                1  \n",
       "13563                1  \n",
       "13564                1  \n",
       "13565                1  \n",
       "\n",
       "[13566 rows x 13 columns]"
      ]
     },
     "execution_count": 32,
     "metadata": {},
     "output_type": "execute_result"
    }
   ],
   "source": [
    "\n",
    "X = df.drop(columns=['prevalentStroke'])  \n",
    "y = df['prevalentStroke']  \n",
    "smote = SMOTE(sampling_strategy='auto', random_state=42)  \n",
    "X_resampled, y_resampled = smote.fit_resample(X, y)\n",
    "df = pd.concat([X_resampled, y_resampled], axis=1)\n",
    "df"
   ]
  },
  {
   "cell_type": "code",
   "execution_count": 33,
   "metadata": {},
   "outputs": [
    {
     "data": {
      "text/html": [
       "<div>\n",
       "<style scoped>\n",
       "    .dataframe tbody tr th:only-of-type {\n",
       "        vertical-align: middle;\n",
       "    }\n",
       "\n",
       "    .dataframe tbody tr th {\n",
       "        vertical-align: top;\n",
       "    }\n",
       "\n",
       "    .dataframe thead th {\n",
       "        text-align: right;\n",
       "    }\n",
       "</style>\n",
       "<table border=\"1\" class=\"dataframe\">\n",
       "  <thead>\n",
       "    <tr style=\"text-align: right;\">\n",
       "      <th></th>\n",
       "      <th>age</th>\n",
       "      <th>cigsPerDay</th>\n",
       "      <th>BPMeds</th>\n",
       "      <th>diabetes</th>\n",
       "      <th>totChol</th>\n",
       "      <th>sysBP</th>\n",
       "      <th>diaBP</th>\n",
       "      <th>BMI</th>\n",
       "      <th>glucose</th>\n",
       "      <th>Gender</th>\n",
       "      <th>prevalentHyp</th>\n",
       "      <th>prevalentStroke</th>\n",
       "      <th>TenYearCHD</th>\n",
       "    </tr>\n",
       "  </thead>\n",
       "  <tbody>\n",
       "    <tr>\n",
       "      <th>0</th>\n",
       "      <td>39</td>\n",
       "      <td>0.000000</td>\n",
       "      <td>0.000000</td>\n",
       "      <td>0</td>\n",
       "      <td>195.000000</td>\n",
       "      <td>106.000000</td>\n",
       "      <td>70.000000</td>\n",
       "      <td>26.970000</td>\n",
       "      <td>77.000000</td>\n",
       "      <td>1</td>\n",
       "      <td>0</td>\n",
       "      <td>0</td>\n",
       "      <td>0</td>\n",
       "    </tr>\n",
       "    <tr>\n",
       "      <th>1</th>\n",
       "      <td>46</td>\n",
       "      <td>0.000000</td>\n",
       "      <td>0.000000</td>\n",
       "      <td>0</td>\n",
       "      <td>250.000000</td>\n",
       "      <td>121.000000</td>\n",
       "      <td>81.000000</td>\n",
       "      <td>28.730000</td>\n",
       "      <td>76.000000</td>\n",
       "      <td>0</td>\n",
       "      <td>0</td>\n",
       "      <td>0</td>\n",
       "      <td>0</td>\n",
       "    </tr>\n",
       "    <tr>\n",
       "      <th>2</th>\n",
       "      <td>48</td>\n",
       "      <td>20.000000</td>\n",
       "      <td>0.000000</td>\n",
       "      <td>0</td>\n",
       "      <td>245.000000</td>\n",
       "      <td>127.500000</td>\n",
       "      <td>80.000000</td>\n",
       "      <td>25.340000</td>\n",
       "      <td>70.000000</td>\n",
       "      <td>1</td>\n",
       "      <td>0</td>\n",
       "      <td>0</td>\n",
       "      <td>0</td>\n",
       "    </tr>\n",
       "    <tr>\n",
       "      <th>3</th>\n",
       "      <td>61</td>\n",
       "      <td>30.000000</td>\n",
       "      <td>0.000000</td>\n",
       "      <td>0</td>\n",
       "      <td>225.000000</td>\n",
       "      <td>150.000000</td>\n",
       "      <td>95.000000</td>\n",
       "      <td>28.580000</td>\n",
       "      <td>103.000000</td>\n",
       "      <td>0</td>\n",
       "      <td>1</td>\n",
       "      <td>0</td>\n",
       "      <td>1</td>\n",
       "    </tr>\n",
       "    <tr>\n",
       "      <th>4</th>\n",
       "      <td>46</td>\n",
       "      <td>23.000000</td>\n",
       "      <td>0.000000</td>\n",
       "      <td>0</td>\n",
       "      <td>285.000000</td>\n",
       "      <td>130.000000</td>\n",
       "      <td>84.000000</td>\n",
       "      <td>23.100000</td>\n",
       "      <td>85.000000</td>\n",
       "      <td>0</td>\n",
       "      <td>0</td>\n",
       "      <td>0</td>\n",
       "      <td>0</td>\n",
       "    </tr>\n",
       "    <tr>\n",
       "      <th>...</th>\n",
       "      <td>...</td>\n",
       "      <td>...</td>\n",
       "      <td>...</td>\n",
       "      <td>...</td>\n",
       "      <td>...</td>\n",
       "      <td>...</td>\n",
       "      <td>...</td>\n",
       "      <td>...</td>\n",
       "      <td>...</td>\n",
       "      <td>...</td>\n",
       "      <td>...</td>\n",
       "      <td>...</td>\n",
       "      <td>...</td>\n",
       "    </tr>\n",
       "    <tr>\n",
       "      <th>22853</th>\n",
       "      <td>60</td>\n",
       "      <td>16.097520</td>\n",
       "      <td>0.000000</td>\n",
       "      <td>0</td>\n",
       "      <td>210.853636</td>\n",
       "      <td>157.731652</td>\n",
       "      <td>94.000000</td>\n",
       "      <td>26.607478</td>\n",
       "      <td>68.609752</td>\n",
       "      <td>1</td>\n",
       "      <td>0</td>\n",
       "      <td>1</td>\n",
       "      <td>1</td>\n",
       "    </tr>\n",
       "    <tr>\n",
       "      <th>22854</th>\n",
       "      <td>60</td>\n",
       "      <td>16.897512</td>\n",
       "      <td>0.000000</td>\n",
       "      <td>0</td>\n",
       "      <td>211.345339</td>\n",
       "      <td>162.172670</td>\n",
       "      <td>97.309321</td>\n",
       "      <td>26.293854</td>\n",
       "      <td>71.895656</td>\n",
       "      <td>0</td>\n",
       "      <td>1</td>\n",
       "      <td>1</td>\n",
       "      <td>1</td>\n",
       "    </tr>\n",
       "    <tr>\n",
       "      <th>22855</th>\n",
       "      <td>56</td>\n",
       "      <td>20.000000</td>\n",
       "      <td>0.990117</td>\n",
       "      <td>0</td>\n",
       "      <td>261.970350</td>\n",
       "      <td>139.950584</td>\n",
       "      <td>92.970350</td>\n",
       "      <td>21.987349</td>\n",
       "      <td>81.957199</td>\n",
       "      <td>0</td>\n",
       "      <td>1</td>\n",
       "      <td>0</td>\n",
       "      <td>1</td>\n",
       "    </tr>\n",
       "    <tr>\n",
       "      <th>22856</th>\n",
       "      <td>52</td>\n",
       "      <td>1.017586</td>\n",
       "      <td>0.000000</td>\n",
       "      <td>0</td>\n",
       "      <td>202.610552</td>\n",
       "      <td>140.680895</td>\n",
       "      <td>97.256275</td>\n",
       "      <td>29.573845</td>\n",
       "      <td>70.256275</td>\n",
       "      <td>0</td>\n",
       "      <td>0</td>\n",
       "      <td>1</td>\n",
       "      <td>1</td>\n",
       "    </tr>\n",
       "    <tr>\n",
       "      <th>22857</th>\n",
       "      <td>52</td>\n",
       "      <td>1.152896</td>\n",
       "      <td>0.000000</td>\n",
       "      <td>0</td>\n",
       "      <td>202.634093</td>\n",
       "      <td>137.556410</td>\n",
       "      <td>94.000000</td>\n",
       "      <td>29.692043</td>\n",
       "      <td>67.115290</td>\n",
       "      <td>1</td>\n",
       "      <td>0</td>\n",
       "      <td>1</td>\n",
       "      <td>1</td>\n",
       "    </tr>\n",
       "  </tbody>\n",
       "</table>\n",
       "<p>22858 rows × 13 columns</p>\n",
       "</div>"
      ],
      "text/plain": [
       "       age  cigsPerDay    BPMeds  diabetes     totChol       sysBP      diaBP  \\\n",
       "0       39    0.000000  0.000000         0  195.000000  106.000000  70.000000   \n",
       "1       46    0.000000  0.000000         0  250.000000  121.000000  81.000000   \n",
       "2       48   20.000000  0.000000         0  245.000000  127.500000  80.000000   \n",
       "3       61   30.000000  0.000000         0  225.000000  150.000000  95.000000   \n",
       "4       46   23.000000  0.000000         0  285.000000  130.000000  84.000000   \n",
       "...    ...         ...       ...       ...         ...         ...        ...   \n",
       "22853   60   16.097520  0.000000         0  210.853636  157.731652  94.000000   \n",
       "22854   60   16.897512  0.000000         0  211.345339  162.172670  97.309321   \n",
       "22855   56   20.000000  0.990117         0  261.970350  139.950584  92.970350   \n",
       "22856   52    1.017586  0.000000         0  202.610552  140.680895  97.256275   \n",
       "22857   52    1.152896  0.000000         0  202.634093  137.556410  94.000000   \n",
       "\n",
       "             BMI     glucose  Gender  prevalentHyp  prevalentStroke  \\\n",
       "0      26.970000   77.000000       1             0                0   \n",
       "1      28.730000   76.000000       0             0                0   \n",
       "2      25.340000   70.000000       1             0                0   \n",
       "3      28.580000  103.000000       0             1                0   \n",
       "4      23.100000   85.000000       0             0                0   \n",
       "...          ...         ...     ...           ...              ...   \n",
       "22853  26.607478   68.609752       1             0                1   \n",
       "22854  26.293854   71.895656       0             1                1   \n",
       "22855  21.987349   81.957199       0             1                0   \n",
       "22856  29.573845   70.256275       0             0                1   \n",
       "22857  29.692043   67.115290       1             0                1   \n",
       "\n",
       "       TenYearCHD  \n",
       "0               0  \n",
       "1               0  \n",
       "2               0  \n",
       "3               1  \n",
       "4               0  \n",
       "...           ...  \n",
       "22853           1  \n",
       "22854           1  \n",
       "22855           1  \n",
       "22856           1  \n",
       "22857           1  \n",
       "\n",
       "[22858 rows x 13 columns]"
      ]
     },
     "execution_count": 33,
     "metadata": {},
     "output_type": "execute_result"
    }
   ],
   "source": [
    "\n",
    "X = df.drop(columns=['TenYearCHD'])  \n",
    "y = df['TenYearCHD']   \n",
    "smote = SMOTE(sampling_strategy='auto', random_state=42)  \n",
    "X_resampled, y_resampled = smote.fit_resample(X, y)\n",
    "df = pd.concat([X_resampled, y_resampled], axis=1)\n",
    "df"
   ]
  },
  {
   "cell_type": "code",
   "execution_count": 34,
   "metadata": {},
   "outputs": [
    {
     "data": {
      "text/html": [
       "<div>\n",
       "<style scoped>\n",
       "    .dataframe tbody tr th:only-of-type {\n",
       "        vertical-align: middle;\n",
       "    }\n",
       "\n",
       "    .dataframe tbody tr th {\n",
       "        vertical-align: top;\n",
       "    }\n",
       "\n",
       "    .dataframe thead th {\n",
       "        text-align: right;\n",
       "    }\n",
       "</style>\n",
       "<table border=\"1\" class=\"dataframe\">\n",
       "  <thead>\n",
       "    <tr style=\"text-align: right;\">\n",
       "      <th></th>\n",
       "      <th>age</th>\n",
       "      <th>cigsPerDay</th>\n",
       "      <th>BPMeds</th>\n",
       "      <th>diabetes</th>\n",
       "      <th>totChol</th>\n",
       "      <th>sysBP</th>\n",
       "      <th>diaBP</th>\n",
       "      <th>BMI</th>\n",
       "      <th>glucose</th>\n",
       "      <th>Gender</th>\n",
       "      <th>prevalentHyp</th>\n",
       "      <th>prevalentStroke</th>\n",
       "      <th>TenYearCHD</th>\n",
       "    </tr>\n",
       "  </thead>\n",
       "  <tbody>\n",
       "    <tr>\n",
       "      <th>20181</th>\n",
       "      <td>50</td>\n",
       "      <td>0.000000</td>\n",
       "      <td>0.720752</td>\n",
       "      <td>0</td>\n",
       "      <td>213.045266</td>\n",
       "      <td>184.954734</td>\n",
       "      <td>118.828341</td>\n",
       "      <td>36.943276</td>\n",
       "      <td>88.883009</td>\n",
       "      <td>0</td>\n",
       "      <td>1</td>\n",
       "      <td>0</td>\n",
       "      <td>1</td>\n",
       "    </tr>\n",
       "    <tr>\n",
       "      <th>13497</th>\n",
       "      <td>62</td>\n",
       "      <td>4.321494</td>\n",
       "      <td>0.000000</td>\n",
       "      <td>0</td>\n",
       "      <td>264.703552</td>\n",
       "      <td>143.889345</td>\n",
       "      <td>99.135701</td>\n",
       "      <td>27.590348</td>\n",
       "      <td>78.080374</td>\n",
       "      <td>1</td>\n",
       "      <td>1</td>\n",
       "      <td>1</td>\n",
       "      <td>0</td>\n",
       "    </tr>\n",
       "    <tr>\n",
       "      <th>15573</th>\n",
       "      <td>56</td>\n",
       "      <td>10.818999</td>\n",
       "      <td>0.000000</td>\n",
       "      <td>0</td>\n",
       "      <td>208.103466</td>\n",
       "      <td>160.551733</td>\n",
       "      <td>103.793068</td>\n",
       "      <td>27.257498</td>\n",
       "      <td>77.568935</td>\n",
       "      <td>0</td>\n",
       "      <td>1</td>\n",
       "      <td>1</td>\n",
       "      <td>1</td>\n",
       "    </tr>\n",
       "    <tr>\n",
       "      <th>3630</th>\n",
       "      <td>47</td>\n",
       "      <td>20.000000</td>\n",
       "      <td>0.000000</td>\n",
       "      <td>0</td>\n",
       "      <td>236.721585</td>\n",
       "      <td>120.000000</td>\n",
       "      <td>77.500000</td>\n",
       "      <td>23.390000</td>\n",
       "      <td>81.966753</td>\n",
       "      <td>0</td>\n",
       "      <td>0</td>\n",
       "      <td>0</td>\n",
       "      <td>0</td>\n",
       "    </tr>\n",
       "    <tr>\n",
       "      <th>20848</th>\n",
       "      <td>52</td>\n",
       "      <td>0.959377</td>\n",
       "      <td>0.003158</td>\n",
       "      <td>0</td>\n",
       "      <td>302.253818</td>\n",
       "      <td>127.040623</td>\n",
       "      <td>90.893403</td>\n",
       "      <td>26.944930</td>\n",
       "      <td>76.147220</td>\n",
       "      <td>0</td>\n",
       "      <td>0</td>\n",
       "      <td>0</td>\n",
       "      <td>1</td>\n",
       "    </tr>\n",
       "    <tr>\n",
       "      <th>...</th>\n",
       "      <td>...</td>\n",
       "      <td>...</td>\n",
       "      <td>...</td>\n",
       "      <td>...</td>\n",
       "      <td>...</td>\n",
       "      <td>...</td>\n",
       "      <td>...</td>\n",
       "      <td>...</td>\n",
       "      <td>...</td>\n",
       "      <td>...</td>\n",
       "      <td>...</td>\n",
       "      <td>...</td>\n",
       "      <td>...</td>\n",
       "    </tr>\n",
       "    <tr>\n",
       "      <th>4422</th>\n",
       "      <td>62</td>\n",
       "      <td>29.127098</td>\n",
       "      <td>0.000000</td>\n",
       "      <td>0</td>\n",
       "      <td>225.912710</td>\n",
       "      <td>107.222063</td>\n",
       "      <td>68.154676</td>\n",
       "      <td>24.047772</td>\n",
       "      <td>87.611031</td>\n",
       "      <td>1</td>\n",
       "      <td>0</td>\n",
       "      <td>0</td>\n",
       "      <td>0</td>\n",
       "    </tr>\n",
       "    <tr>\n",
       "      <th>6246</th>\n",
       "      <td>61</td>\n",
       "      <td>20.000000</td>\n",
       "      <td>0.000000</td>\n",
       "      <td>0</td>\n",
       "      <td>265.926865</td>\n",
       "      <td>180.000000</td>\n",
       "      <td>100.658541</td>\n",
       "      <td>24.809264</td>\n",
       "      <td>83.305729</td>\n",
       "      <td>0</td>\n",
       "      <td>1</td>\n",
       "      <td>0</td>\n",
       "      <td>1</td>\n",
       "    </tr>\n",
       "    <tr>\n",
       "      <th>8766</th>\n",
       "      <td>60</td>\n",
       "      <td>0.000000</td>\n",
       "      <td>0.018184</td>\n",
       "      <td>0</td>\n",
       "      <td>301.974919</td>\n",
       "      <td>146.317726</td>\n",
       "      <td>75.202343</td>\n",
       "      <td>21.831054</td>\n",
       "      <td>139.591972</td>\n",
       "      <td>0</td>\n",
       "      <td>0</td>\n",
       "      <td>1</td>\n",
       "      <td>0</td>\n",
       "    </tr>\n",
       "    <tr>\n",
       "      <th>3787</th>\n",
       "      <td>49</td>\n",
       "      <td>0.000000</td>\n",
       "      <td>0.000000</td>\n",
       "      <td>0</td>\n",
       "      <td>203.000000</td>\n",
       "      <td>125.000000</td>\n",
       "      <td>70.000000</td>\n",
       "      <td>22.520000</td>\n",
       "      <td>81.966753</td>\n",
       "      <td>0</td>\n",
       "      <td>0</td>\n",
       "      <td>0</td>\n",
       "      <td>0</td>\n",
       "    </tr>\n",
       "    <tr>\n",
       "      <th>19155</th>\n",
       "      <td>62</td>\n",
       "      <td>0.000000</td>\n",
       "      <td>0.000000</td>\n",
       "      <td>0</td>\n",
       "      <td>210.000000</td>\n",
       "      <td>125.727347</td>\n",
       "      <td>81.743822</td>\n",
       "      <td>26.279250</td>\n",
       "      <td>75.495881</td>\n",
       "      <td>1</td>\n",
       "      <td>0</td>\n",
       "      <td>0</td>\n",
       "      <td>1</td>\n",
       "    </tr>\n",
       "  </tbody>\n",
       "</table>\n",
       "<p>22858 rows × 13 columns</p>\n",
       "</div>"
      ],
      "text/plain": [
       "       age  cigsPerDay    BPMeds  diabetes     totChol       sysBP  \\\n",
       "20181   50    0.000000  0.720752         0  213.045266  184.954734   \n",
       "13497   62    4.321494  0.000000         0  264.703552  143.889345   \n",
       "15573   56   10.818999  0.000000         0  208.103466  160.551733   \n",
       "3630    47   20.000000  0.000000         0  236.721585  120.000000   \n",
       "20848   52    0.959377  0.003158         0  302.253818  127.040623   \n",
       "...    ...         ...       ...       ...         ...         ...   \n",
       "4422    62   29.127098  0.000000         0  225.912710  107.222063   \n",
       "6246    61   20.000000  0.000000         0  265.926865  180.000000   \n",
       "8766    60    0.000000  0.018184         0  301.974919  146.317726   \n",
       "3787    49    0.000000  0.000000         0  203.000000  125.000000   \n",
       "19155   62    0.000000  0.000000         0  210.000000  125.727347   \n",
       "\n",
       "            diaBP        BMI     glucose  Gender  prevalentHyp  \\\n",
       "20181  118.828341  36.943276   88.883009       0             1   \n",
       "13497   99.135701  27.590348   78.080374       1             1   \n",
       "15573  103.793068  27.257498   77.568935       0             1   \n",
       "3630    77.500000  23.390000   81.966753       0             0   \n",
       "20848   90.893403  26.944930   76.147220       0             0   \n",
       "...           ...        ...         ...     ...           ...   \n",
       "4422    68.154676  24.047772   87.611031       1             0   \n",
       "6246   100.658541  24.809264   83.305729       0             1   \n",
       "8766    75.202343  21.831054  139.591972       0             0   \n",
       "3787    70.000000  22.520000   81.966753       0             0   \n",
       "19155   81.743822  26.279250   75.495881       1             0   \n",
       "\n",
       "       prevalentStroke  TenYearCHD  \n",
       "20181                0           1  \n",
       "13497                1           0  \n",
       "15573                1           1  \n",
       "3630                 0           0  \n",
       "20848                0           1  \n",
       "...                ...         ...  \n",
       "4422                 0           0  \n",
       "6246                 0           1  \n",
       "8766                 1           0  \n",
       "3787                 0           0  \n",
       "19155                0           1  \n",
       "\n",
       "[22858 rows x 13 columns]"
      ]
     },
     "execution_count": 34,
     "metadata": {},
     "output_type": "execute_result"
    }
   ],
   "source": [
    "df=df.sample(frac=1)\n",
    "df"
   ]
  },
  {
   "cell_type": "code",
   "execution_count": 35,
   "metadata": {},
   "outputs": [
    {
     "data": {
      "text/html": [
       "<div>\n",
       "<style scoped>\n",
       "    .dataframe tbody tr th:only-of-type {\n",
       "        vertical-align: middle;\n",
       "    }\n",
       "\n",
       "    .dataframe tbody tr th {\n",
       "        vertical-align: top;\n",
       "    }\n",
       "\n",
       "    .dataframe thead th {\n",
       "        text-align: right;\n",
       "    }\n",
       "</style>\n",
       "<table border=\"1\" class=\"dataframe\">\n",
       "  <thead>\n",
       "    <tr style=\"text-align: right;\">\n",
       "      <th></th>\n",
       "      <th>age</th>\n",
       "      <th>cigsPerDay</th>\n",
       "      <th>BPMeds</th>\n",
       "      <th>diabetes</th>\n",
       "      <th>totChol</th>\n",
       "      <th>sysBP</th>\n",
       "      <th>diaBP</th>\n",
       "      <th>BMI</th>\n",
       "      <th>glucose</th>\n",
       "      <th>Gender</th>\n",
       "      <th>prevalentHyp</th>\n",
       "      <th>prevalentStroke</th>\n",
       "      <th>TenYearCHD</th>\n",
       "    </tr>\n",
       "  </thead>\n",
       "  <tbody>\n",
       "  </tbody>\n",
       "</table>\n",
       "</div>"
      ],
      "text/plain": [
       "Empty DataFrame\n",
       "Columns: [age, cigsPerDay, BPMeds, diabetes, totChol, sysBP, diaBP, BMI, glucose, Gender, prevalentHyp, prevalentStroke, TenYearCHD]\n",
       "Index: []"
      ]
     },
     "execution_count": 35,
     "metadata": {},
     "output_type": "execute_result"
    }
   ],
   "source": [
    "duplicates=df[df.duplicated()]\n",
    "duplicates"
   ]
  },
  {
   "cell_type": "code",
   "execution_count": 36,
   "metadata": {},
   "outputs": [
    {
     "data": {
      "application/vnd.plotly.v1+json": {
       "config": {
        "linkText": "Export to plot.ly",
        "plotlyServerURL": "https://plot.ly",
        "showLink": false
       },
       "data": [
        {
         "labels": [
          "Low probability",
          "High probability"
         ],
         "marker": {
          "colors": [
           "MediumSeaGreen",
           "Coral"
          ],
          "line": {
           "color": "Black",
           "width": 2
          }
         },
         "type": "pie",
         "values": [
          11429,
          11429
         ]
        }
       ],
       "layout": {
        "template": {
         "data": {
          "bar": [
           {
            "error_x": {
             "color": "#2a3f5f"
            },
            "error_y": {
             "color": "#2a3f5f"
            },
            "marker": {
             "line": {
              "color": "#E5ECF6",
              "width": 0.5
             },
             "pattern": {
              "fillmode": "overlay",
              "size": 10,
              "solidity": 0.2
             }
            },
            "type": "bar"
           }
          ],
          "barpolar": [
           {
            "marker": {
             "line": {
              "color": "#E5ECF6",
              "width": 0.5
             },
             "pattern": {
              "fillmode": "overlay",
              "size": 10,
              "solidity": 0.2
             }
            },
            "type": "barpolar"
           }
          ],
          "carpet": [
           {
            "aaxis": {
             "endlinecolor": "#2a3f5f",
             "gridcolor": "white",
             "linecolor": "white",
             "minorgridcolor": "white",
             "startlinecolor": "#2a3f5f"
            },
            "baxis": {
             "endlinecolor": "#2a3f5f",
             "gridcolor": "white",
             "linecolor": "white",
             "minorgridcolor": "white",
             "startlinecolor": "#2a3f5f"
            },
            "type": "carpet"
           }
          ],
          "choropleth": [
           {
            "colorbar": {
             "outlinewidth": 0,
             "ticks": ""
            },
            "type": "choropleth"
           }
          ],
          "contour": [
           {
            "colorbar": {
             "outlinewidth": 0,
             "ticks": ""
            },
            "colorscale": [
             [
              0,
              "#0d0887"
             ],
             [
              0.1111111111111111,
              "#46039f"
             ],
             [
              0.2222222222222222,
              "#7201a8"
             ],
             [
              0.3333333333333333,
              "#9c179e"
             ],
             [
              0.4444444444444444,
              "#bd3786"
             ],
             [
              0.5555555555555556,
              "#d8576b"
             ],
             [
              0.6666666666666666,
              "#ed7953"
             ],
             [
              0.7777777777777778,
              "#fb9f3a"
             ],
             [
              0.8888888888888888,
              "#fdca26"
             ],
             [
              1,
              "#f0f921"
             ]
            ],
            "type": "contour"
           }
          ],
          "contourcarpet": [
           {
            "colorbar": {
             "outlinewidth": 0,
             "ticks": ""
            },
            "type": "contourcarpet"
           }
          ],
          "heatmap": [
           {
            "colorbar": {
             "outlinewidth": 0,
             "ticks": ""
            },
            "colorscale": [
             [
              0,
              "#0d0887"
             ],
             [
              0.1111111111111111,
              "#46039f"
             ],
             [
              0.2222222222222222,
              "#7201a8"
             ],
             [
              0.3333333333333333,
              "#9c179e"
             ],
             [
              0.4444444444444444,
              "#bd3786"
             ],
             [
              0.5555555555555556,
              "#d8576b"
             ],
             [
              0.6666666666666666,
              "#ed7953"
             ],
             [
              0.7777777777777778,
              "#fb9f3a"
             ],
             [
              0.8888888888888888,
              "#fdca26"
             ],
             [
              1,
              "#f0f921"
             ]
            ],
            "type": "heatmap"
           }
          ],
          "heatmapgl": [
           {
            "colorbar": {
             "outlinewidth": 0,
             "ticks": ""
            },
            "colorscale": [
             [
              0,
              "#0d0887"
             ],
             [
              0.1111111111111111,
              "#46039f"
             ],
             [
              0.2222222222222222,
              "#7201a8"
             ],
             [
              0.3333333333333333,
              "#9c179e"
             ],
             [
              0.4444444444444444,
              "#bd3786"
             ],
             [
              0.5555555555555556,
              "#d8576b"
             ],
             [
              0.6666666666666666,
              "#ed7953"
             ],
             [
              0.7777777777777778,
              "#fb9f3a"
             ],
             [
              0.8888888888888888,
              "#fdca26"
             ],
             [
              1,
              "#f0f921"
             ]
            ],
            "type": "heatmapgl"
           }
          ],
          "histogram": [
           {
            "marker": {
             "pattern": {
              "fillmode": "overlay",
              "size": 10,
              "solidity": 0.2
             }
            },
            "type": "histogram"
           }
          ],
          "histogram2d": [
           {
            "colorbar": {
             "outlinewidth": 0,
             "ticks": ""
            },
            "colorscale": [
             [
              0,
              "#0d0887"
             ],
             [
              0.1111111111111111,
              "#46039f"
             ],
             [
              0.2222222222222222,
              "#7201a8"
             ],
             [
              0.3333333333333333,
              "#9c179e"
             ],
             [
              0.4444444444444444,
              "#bd3786"
             ],
             [
              0.5555555555555556,
              "#d8576b"
             ],
             [
              0.6666666666666666,
              "#ed7953"
             ],
             [
              0.7777777777777778,
              "#fb9f3a"
             ],
             [
              0.8888888888888888,
              "#fdca26"
             ],
             [
              1,
              "#f0f921"
             ]
            ],
            "type": "histogram2d"
           }
          ],
          "histogram2dcontour": [
           {
            "colorbar": {
             "outlinewidth": 0,
             "ticks": ""
            },
            "colorscale": [
             [
              0,
              "#0d0887"
             ],
             [
              0.1111111111111111,
              "#46039f"
             ],
             [
              0.2222222222222222,
              "#7201a8"
             ],
             [
              0.3333333333333333,
              "#9c179e"
             ],
             [
              0.4444444444444444,
              "#bd3786"
             ],
             [
              0.5555555555555556,
              "#d8576b"
             ],
             [
              0.6666666666666666,
              "#ed7953"
             ],
             [
              0.7777777777777778,
              "#fb9f3a"
             ],
             [
              0.8888888888888888,
              "#fdca26"
             ],
             [
              1,
              "#f0f921"
             ]
            ],
            "type": "histogram2dcontour"
           }
          ],
          "mesh3d": [
           {
            "colorbar": {
             "outlinewidth": 0,
             "ticks": ""
            },
            "type": "mesh3d"
           }
          ],
          "parcoords": [
           {
            "line": {
             "colorbar": {
              "outlinewidth": 0,
              "ticks": ""
             }
            },
            "type": "parcoords"
           }
          ],
          "pie": [
           {
            "automargin": true,
            "type": "pie"
           }
          ],
          "scatter": [
           {
            "fillpattern": {
             "fillmode": "overlay",
             "size": 10,
             "solidity": 0.2
            },
            "type": "scatter"
           }
          ],
          "scatter3d": [
           {
            "line": {
             "colorbar": {
              "outlinewidth": 0,
              "ticks": ""
             }
            },
            "marker": {
             "colorbar": {
              "outlinewidth": 0,
              "ticks": ""
             }
            },
            "type": "scatter3d"
           }
          ],
          "scattercarpet": [
           {
            "marker": {
             "colorbar": {
              "outlinewidth": 0,
              "ticks": ""
             }
            },
            "type": "scattercarpet"
           }
          ],
          "scattergeo": [
           {
            "marker": {
             "colorbar": {
              "outlinewidth": 0,
              "ticks": ""
             }
            },
            "type": "scattergeo"
           }
          ],
          "scattergl": [
           {
            "marker": {
             "colorbar": {
              "outlinewidth": 0,
              "ticks": ""
             }
            },
            "type": "scattergl"
           }
          ],
          "scattermapbox": [
           {
            "marker": {
             "colorbar": {
              "outlinewidth": 0,
              "ticks": ""
             }
            },
            "type": "scattermapbox"
           }
          ],
          "scatterpolar": [
           {
            "marker": {
             "colorbar": {
              "outlinewidth": 0,
              "ticks": ""
             }
            },
            "type": "scatterpolar"
           }
          ],
          "scatterpolargl": [
           {
            "marker": {
             "colorbar": {
              "outlinewidth": 0,
              "ticks": ""
             }
            },
            "type": "scatterpolargl"
           }
          ],
          "scatterternary": [
           {
            "marker": {
             "colorbar": {
              "outlinewidth": 0,
              "ticks": ""
             }
            },
            "type": "scatterternary"
           }
          ],
          "surface": [
           {
            "colorbar": {
             "outlinewidth": 0,
             "ticks": ""
            },
            "colorscale": [
             [
              0,
              "#0d0887"
             ],
             [
              0.1111111111111111,
              "#46039f"
             ],
             [
              0.2222222222222222,
              "#7201a8"
             ],
             [
              0.3333333333333333,
              "#9c179e"
             ],
             [
              0.4444444444444444,
              "#bd3786"
             ],
             [
              0.5555555555555556,
              "#d8576b"
             ],
             [
              0.6666666666666666,
              "#ed7953"
             ],
             [
              0.7777777777777778,
              "#fb9f3a"
             ],
             [
              0.8888888888888888,
              "#fdca26"
             ],
             [
              1,
              "#f0f921"
             ]
            ],
            "type": "surface"
           }
          ],
          "table": [
           {
            "cells": {
             "fill": {
              "color": "#EBF0F8"
             },
             "line": {
              "color": "white"
             }
            },
            "header": {
             "fill": {
              "color": "#C8D4E3"
             },
             "line": {
              "color": "white"
             }
            },
            "type": "table"
           }
          ]
         },
         "layout": {
          "annotationdefaults": {
           "arrowcolor": "#2a3f5f",
           "arrowhead": 0,
           "arrowwidth": 1
          },
          "autotypenumbers": "strict",
          "coloraxis": {
           "colorbar": {
            "outlinewidth": 0,
            "ticks": ""
           }
          },
          "colorscale": {
           "diverging": [
            [
             0,
             "#8e0152"
            ],
            [
             0.1,
             "#c51b7d"
            ],
            [
             0.2,
             "#de77ae"
            ],
            [
             0.3,
             "#f1b6da"
            ],
            [
             0.4,
             "#fde0ef"
            ],
            [
             0.5,
             "#f7f7f7"
            ],
            [
             0.6,
             "#e6f5d0"
            ],
            [
             0.7,
             "#b8e186"
            ],
            [
             0.8,
             "#7fbc41"
            ],
            [
             0.9,
             "#4d9221"
            ],
            [
             1,
             "#276419"
            ]
           ],
           "sequential": [
            [
             0,
             "#0d0887"
            ],
            [
             0.1111111111111111,
             "#46039f"
            ],
            [
             0.2222222222222222,
             "#7201a8"
            ],
            [
             0.3333333333333333,
             "#9c179e"
            ],
            [
             0.4444444444444444,
             "#bd3786"
            ],
            [
             0.5555555555555556,
             "#d8576b"
            ],
            [
             0.6666666666666666,
             "#ed7953"
            ],
            [
             0.7777777777777778,
             "#fb9f3a"
            ],
            [
             0.8888888888888888,
             "#fdca26"
            ],
            [
             1,
             "#f0f921"
            ]
           ],
           "sequentialminus": [
            [
             0,
             "#0d0887"
            ],
            [
             0.1111111111111111,
             "#46039f"
            ],
            [
             0.2222222222222222,
             "#7201a8"
            ],
            [
             0.3333333333333333,
             "#9c179e"
            ],
            [
             0.4444444444444444,
             "#bd3786"
            ],
            [
             0.5555555555555556,
             "#d8576b"
            ],
            [
             0.6666666666666666,
             "#ed7953"
            ],
            [
             0.7777777777777778,
             "#fb9f3a"
            ],
            [
             0.8888888888888888,
             "#fdca26"
            ],
            [
             1,
             "#f0f921"
            ]
           ]
          },
          "colorway": [
           "#636efa",
           "#EF553B",
           "#00cc96",
           "#ab63fa",
           "#FFA15A",
           "#19d3f3",
           "#FF6692",
           "#B6E880",
           "#FF97FF",
           "#FECB52"
          ],
          "font": {
           "color": "#2a3f5f"
          },
          "geo": {
           "bgcolor": "white",
           "lakecolor": "white",
           "landcolor": "#E5ECF6",
           "showlakes": true,
           "showland": true,
           "subunitcolor": "white"
          },
          "hoverlabel": {
           "align": "left"
          },
          "hovermode": "closest",
          "mapbox": {
           "style": "light"
          },
          "paper_bgcolor": "white",
          "plot_bgcolor": "#E5ECF6",
          "polar": {
           "angularaxis": {
            "gridcolor": "white",
            "linecolor": "white",
            "ticks": ""
           },
           "bgcolor": "#E5ECF6",
           "radialaxis": {
            "gridcolor": "white",
            "linecolor": "white",
            "ticks": ""
           }
          },
          "scene": {
           "xaxis": {
            "backgroundcolor": "#E5ECF6",
            "gridcolor": "white",
            "gridwidth": 2,
            "linecolor": "white",
            "showbackground": true,
            "ticks": "",
            "zerolinecolor": "white"
           },
           "yaxis": {
            "backgroundcolor": "#E5ECF6",
            "gridcolor": "white",
            "gridwidth": 2,
            "linecolor": "white",
            "showbackground": true,
            "ticks": "",
            "zerolinecolor": "white"
           },
           "zaxis": {
            "backgroundcolor": "#E5ECF6",
            "gridcolor": "white",
            "gridwidth": 2,
            "linecolor": "white",
            "showbackground": true,
            "ticks": "",
            "zerolinecolor": "white"
           }
          },
          "shapedefaults": {
           "line": {
            "color": "#2a3f5f"
           }
          },
          "ternary": {
           "aaxis": {
            "gridcolor": "white",
            "linecolor": "white",
            "ticks": ""
           },
           "baxis": {
            "gridcolor": "white",
            "linecolor": "white",
            "ticks": ""
           },
           "bgcolor": "#E5ECF6",
           "caxis": {
            "gridcolor": "white",
            "linecolor": "white",
            "ticks": ""
           }
          },
          "title": {
           "x": 0.05
          },
          "xaxis": {
           "automargin": true,
           "gridcolor": "white",
           "linecolor": "white",
           "ticks": "",
           "title": {
            "standoff": 15
           },
           "zerolinecolor": "white",
           "zerolinewidth": 2
          },
          "yaxis": {
           "automargin": true,
           "gridcolor": "white",
           "linecolor": "white",
           "ticks": "",
           "title": {
            "standoff": 15
           },
           "zerolinecolor": "white",
           "zerolinewidth": 2
          }
         }
        }
       }
      }
     },
     "metadata": {},
     "output_type": "display_data"
    },
    {
     "data": {
      "text/plain": [
       "<module 'plotly.offline' from 'C:\\\\Users\\\\ishaa\\\\AppData\\\\Roaming\\\\Python\\\\Python310\\\\site-packages\\\\plotly\\\\offline\\\\__init__.py'>"
      ]
     },
     "execution_count": 36,
     "metadata": {},
     "output_type": "execute_result"
    }
   ],
   "source": [
    "def condition_ratio(data):\n",
    "    results = data['TenYearCHD'].value_counts()\n",
    "    values = [results[0], results[1]]\n",
    "    labels = ['Low probability', 'High probability']\n",
    "    colors = ['MediumSeaGreen', 'Coral']\n",
    "    fig_pie = go.Pie(labels=labels, values=values,\n",
    "                     marker={'colors': colors, \n",
    "                             'line': {'color': 'Black', 'width': 2}})\n",
    "    py.iplot([fig_pie])\n",
    "    return py\n",
    "condition_ratio(df)"
   ]
  },
  {
   "cell_type": "code",
   "execution_count": 37,
   "metadata": {},
   "outputs": [
    {
     "data": {
      "text/plain": [
       "TenYearCHD\n",
       "1    11429\n",
       "0    11429\n",
       "Name: count, dtype: int64"
      ]
     },
     "execution_count": 37,
     "metadata": {},
     "output_type": "execute_result"
    }
   ],
   "source": [
    "df['TenYearCHD'].value_counts()"
   ]
  },
  {
   "cell_type": "markdown",
   "metadata": {},
   "source": [
    "### Training and Testing different model architectures"
   ]
  },
  {
   "cell_type": "code",
   "execution_count": 38,
   "id": "5dac6e12",
   "metadata": {},
   "outputs": [],
   "source": [
    "X = df.iloc[:,0:12].values"
   ]
  },
  {
   "cell_type": "code",
   "execution_count": 39,
   "id": "621d3fae",
   "metadata": {},
   "outputs": [],
   "source": [
    "y = df.iloc[:, 12].values"
   ]
  },
  {
   "cell_type": "markdown",
   "metadata": {},
   "source": [
    "### Random Forest Classifier"
   ]
  },
  {
   "cell_type": "code",
   "execution_count": 40,
   "id": "eb13dce7",
   "metadata": {},
   "outputs": [],
   "source": [
    "X_train, X_test, y_train, y_test = train_test_split(X, y, test_size=0.1, random_state=42)"
   ]
  },
  {
   "cell_type": "code",
   "execution_count": 41,
   "metadata": {},
   "outputs": [],
   "source": [
    "scaler = StandardScaler()\n",
    "X_train = scaler.fit_transform(X_train)\n",
    "X_test = scaler.transform(X_test)"
   ]
  },
  {
   "cell_type": "code",
   "execution_count": 90,
   "id": "7c49bcbc",
   "metadata": {},
   "outputs": [
    {
     "name": "stdout",
     "output_type": "stream",
     "text": [
      "Best Parameters: {'max_depth': None, 'min_samples_leaf': 1, 'min_samples_split': 2, 'n_estimators': 150}\n",
      "F1 Score: 0.9527\n",
      "Accuracy: 93.53%\n"
     ]
    }
   ],
   "source": [
    "param_grid = {\n",
    "    'n_estimators': [50, 100, 150],\n",
    "    'max_depth': [None, 10, 20, 30],\n",
    "    'min_samples_split': [2, 5, 10],\n",
    "    'min_samples_leaf': [1, 2, 4]\n",
    "}\n",
    "rf_model = RandomForestClassifier(random_state=128)\n",
    "scorer = make_scorer(f1_score)\n",
    "grid_search = GridSearchCV(estimator=rf_model, param_grid=param_grid, cv=10, scoring=\"accuracy\", n_jobs=-1)\n",
    "grid_search.fit(X_train, y_train)\n",
    "best_rf_model = grid_search.best_estimator_\n",
    "new_threshold = 0.3\n",
    "rf_probabilities = best_rf_model.predict_proba(X_test)[:, 1]\n",
    "rf_predictions = (rf_probabilities > new_threshold).astype(int)\n",
    "rf_accuracy = accuracy_score(y_test, rf_predictions)\n",
    "print(\"Best Parameters:\", grid_search.best_params_)\n",
    "print(f\"F1 Score: {grid_search.best_score_:.4f}\")\n",
    "print(f\"Accuracy: {rf_accuracy * 100:.2f}%\")"
   ]
  },
  {
   "cell_type": "code",
   "execution_count": 91,
   "id": "9b3ecf77",
   "metadata": {},
   "outputs": [
    {
     "name": "stdout",
     "output_type": "stream",
     "text": [
      "Best Parameters: {'max_depth': None, 'min_samples_leaf': 1, 'min_samples_split': 2, 'n_estimators': 150}\n",
      "Confusion Matrix \n",
      " [[1024  126]\n",
      " [  22 1114]]\n"
     ]
    }
   ],
   "source": [
    "conf_matrix = confusion_matrix(y_test, rf_predictions)\n",
    "print(\"Best Parameters:\", grid_search.best_params_)\n",
    "print(\"Confusion Matrix \\n\",conf_matrix)"
   ]
  },
  {
   "cell_type": "code",
   "execution_count": 92,
   "metadata": {},
   "outputs": [
    {
     "name": "stdout",
     "output_type": "stream",
     "text": [
      "Classification Report:\n",
      "               precision    recall  f1-score   support\n",
      "\n",
      "           0       0.98      0.89      0.93      1150\n",
      "           1       0.90      0.98      0.94      1136\n",
      "\n",
      "    accuracy                           0.94      2286\n",
      "   macro avg       0.94      0.94      0.94      2286\n",
      "weighted avg       0.94      0.94      0.94      2286\n",
      "\n"
     ]
    }
   ],
   "source": [
    "rf_classification_report = classification_report(y_test, rf_predictions)\n",
    "print(\"Classification Report:\\n\", rf_classification_report)"
   ]
  },
  {
   "cell_type": "markdown",
   "metadata": {},
   "source": [
    "### Logistic Regression Model"
   ]
  },
  {
   "cell_type": "code",
   "execution_count": 93,
   "metadata": {},
   "outputs": [
    {
     "name": "stdout",
     "output_type": "stream",
     "text": [
      "Accuracy: 50.31%\n"
     ]
    }
   ],
   "source": [
    "param_grid = {\n",
    "    'C': [0.001, 0.01, 0.1, 1, 10],\n",
    "    'penalty': ['l1', 'l2'],\n",
    "    'solver': ['liblinear']\n",
    "}\n",
    "\n",
    "lr_model = LogisticRegression(random_state=0,)\n",
    "grid_search = GridSearchCV(estimator=lr_model, param_grid=param_grid, cv=10, scoring='accuracy', n_jobs=-1)\n",
    "grid_search.fit(X_train, y_train)\n",
    "best_lr_model = grid_search.best_estimator_\n",
    "X_test = scaler.transform(X_test)\n",
    "lr_predictions = best_lr_model.predict(X_test)\n",
    "lr_accuracy = accuracy_score(y_test, lr_predictions)\n",
    "print(f\"Accuracy: {lr_accuracy * 100:.2f}%\")"
   ]
  },
  {
   "cell_type": "code",
   "execution_count": 94,
   "metadata": {},
   "outputs": [
    {
     "name": "stdout",
     "output_type": "stream",
     "text": [
      "Best Parameters: {'C': 1, 'penalty': 'l1', 'solver': 'liblinear'}\n",
      "Confusion Matrix \n",
      " [[1150    0]\n",
      " [1136    0]]\n"
     ]
    }
   ],
   "source": [
    "conf_matrix=confusion_matrix(y_test,lr_predictions)\n",
    "print(\"Best Parameters:\", grid_search.best_params_)\n",
    "print(\"Confusion Matrix \\n\",conf_matrix)"
   ]
  },
  {
   "cell_type": "code",
   "execution_count": 95,
   "metadata": {},
   "outputs": [
    {
     "name": "stdout",
     "output_type": "stream",
     "text": [
      "Classification Report:\n",
      "               precision    recall  f1-score   support\n",
      "\n",
      "           0       0.50      1.00      0.67      1150\n",
      "           1       0.00      0.00      0.00      1136\n",
      "\n",
      "    accuracy                           0.50      2286\n",
      "   macro avg       0.25      0.50      0.33      2286\n",
      "weighted avg       0.25      0.50      0.34      2286\n",
      "\n"
     ]
    }
   ],
   "source": [
    "lr_classification_report = classification_report(y_test, lr_predictions,zero_division=0)\n",
    "print(\"Classification Report:\\n\", lr_classification_report)"
   ]
  },
  {
   "cell_type": "markdown",
   "metadata": {},
   "source": [
    "### Xgboost"
   ]
  },
  {
   "cell_type": "code",
   "execution_count": 96,
   "metadata": {},
   "outputs": [
    {
     "name": "stdout",
     "output_type": "stream",
     "text": [
      "Accuracy: 50.31%\n"
     ]
    }
   ],
   "source": [
    "param_grid = {\n",
    "    'n_estimators': [50, 100, 150],\n",
    "    'max_depth': [3, 4, 5],\n",
    "    'learning_rate': [0.1, 0.01, 0.001],\n",
    "    'subsample': [0.8, 0.9, 1.0],\n",
    "    'colsample_bytree': [0.8, 0.9, 1.0]\n",
    "}\n",
    "xgb_model = xgb.XGBClassifier(random_state=0, n_jobs=-1)\n",
    "grid_search = GridSearchCV(estimator=xgb_model, param_grid=param_grid, cv=10, scoring='accuracy', n_jobs=-1)\n",
    "grid_search.fit(X_train, y_train)\n",
    "best_xgb_model = grid_search.best_estimator_\n",
    "X_test = scaler.transform(X_test)\n",
    "xgb_predictions = best_xgb_model.predict(X_test)\n",
    "xgb_accuracy = accuracy_score(y_test, xgb_predictions)\n",
    "print(f\"Accuracy: {xgb_accuracy * 100:.2f}%\")"
   ]
  },
  {
   "cell_type": "code",
   "execution_count": 97,
   "metadata": {},
   "outputs": [
    {
     "name": "stdout",
     "output_type": "stream",
     "text": [
      "Best Parameters: {'colsample_bytree': 0.9, 'learning_rate': 0.1, 'max_depth': 5, 'n_estimators': 150, 'subsample': 0.8}\n",
      "Confusion Matrix \n",
      " [[1150    0]\n",
      " [1136    0]]\n"
     ]
    }
   ],
   "source": [
    "conf_matrix=confusion_matrix(y_test,xgb_predictions)\n",
    "print(\"Best Parameters:\", grid_search.best_params_)\n",
    "print(\"Confusion Matrix \\n\",conf_matrix)"
   ]
  },
  {
   "cell_type": "code",
   "execution_count": 98,
   "metadata": {},
   "outputs": [
    {
     "name": "stdout",
     "output_type": "stream",
     "text": [
      "Classification Report:\n",
      "               precision    recall  f1-score   support\n",
      "\n",
      "           0       0.50      1.00      0.67      1150\n",
      "           1       1.00      0.00      0.00      1136\n",
      "\n",
      "    accuracy                           0.50      2286\n",
      "   macro avg       0.75      0.50      0.33      2286\n",
      "weighted avg       0.75      0.50      0.34      2286\n",
      "\n"
     ]
    }
   ],
   "source": [
    "xgb_classification_report = classification_report(y_test, xgb_predictions,zero_division=1)\n",
    "print(\"Classification Report:\\n\", xgb_classification_report)"
   ]
  },
  {
   "cell_type": "markdown",
   "metadata": {},
   "source": [
    "### Neural Network Model"
   ]
  },
  {
   "cell_type": "code",
   "execution_count": 99,
   "metadata": {},
   "outputs": [
    {
     "name": "stdout",
     "output_type": "stream",
     "text": [
      "Epoch 1/100\n",
      "161/161 [==============================] - 1s 3ms/step - loss: 0.3134 - accuracy: 0.7450 - val_loss: 0.6151 - val_accuracy: 0.5105\n",
      "Epoch 2/100\n",
      "161/161 [==============================] - 0s 2ms/step - loss: 0.2918 - accuracy: 0.7558 - val_loss: 0.6155 - val_accuracy: 0.5105\n",
      "Epoch 3/100\n",
      "161/161 [==============================] - 0s 2ms/step - loss: 0.2922 - accuracy: 0.7587 - val_loss: 0.6155 - val_accuracy: 0.5105\n",
      "Epoch 4/100\n",
      "161/161 [==============================] - 0s 2ms/step - loss: 0.2917 - accuracy: 0.7572 - val_loss: 0.6155 - val_accuracy: 0.5105\n",
      "Epoch 5/100\n",
      "161/161 [==============================] - 0s 2ms/step - loss: 0.2925 - accuracy: 0.7569 - val_loss: 0.6155 - val_accuracy: 0.5105\n",
      "Epoch 6/100\n",
      "161/161 [==============================] - 0s 2ms/step - loss: 0.2898 - accuracy: 0.7617 - val_loss: 0.6155 - val_accuracy: 0.5105\n",
      "Epoch 7/100\n",
      "161/161 [==============================] - 0s 2ms/step - loss: 0.2913 - accuracy: 0.7575 - val_loss: 0.6155 - val_accuracy: 0.5105\n",
      "Epoch 8/100\n",
      "161/161 [==============================] - 0s 2ms/step - loss: 0.2918 - accuracy: 0.7547 - val_loss: 0.6155 - val_accuracy: 0.5105\n",
      "Epoch 9/100\n",
      "161/161 [==============================] - 0s 2ms/step - loss: 0.2929 - accuracy: 0.7560 - val_loss: 0.6155 - val_accuracy: 0.5105\n",
      "Epoch 10/100\n",
      "161/161 [==============================] - 0s 2ms/step - loss: 0.2918 - accuracy: 0.7555 - val_loss: 0.6155 - val_accuracy: 0.5105\n",
      "Epoch 11/100\n",
      "161/161 [==============================] - 0s 2ms/step - loss: 0.2914 - accuracy: 0.7579 - val_loss: 0.6155 - val_accuracy: 0.5105\n",
      "Epoch 12/100\n",
      "161/161 [==============================] - 0s 2ms/step - loss: 0.2923 - accuracy: 0.7578 - val_loss: 0.6155 - val_accuracy: 0.5105\n",
      "Epoch 13/100\n",
      "161/161 [==============================] - 0s 2ms/step - loss: 0.2930 - accuracy: 0.7524 - val_loss: 0.6155 - val_accuracy: 0.5105\n",
      "Epoch 14/100\n",
      "161/161 [==============================] - 0s 2ms/step - loss: 0.2920 - accuracy: 0.7571 - val_loss: 0.6155 - val_accuracy: 0.5105\n",
      "Epoch 15/100\n",
      "161/161 [==============================] - 0s 2ms/step - loss: 0.2919 - accuracy: 0.7609 - val_loss: 0.6155 - val_accuracy: 0.5105\n",
      "Epoch 16/100\n",
      "161/161 [==============================] - 0s 2ms/step - loss: 0.2923 - accuracy: 0.7552 - val_loss: 0.6155 - val_accuracy: 0.5105\n",
      "Epoch 17/100\n",
      "161/161 [==============================] - 0s 2ms/step - loss: 0.2919 - accuracy: 0.7581 - val_loss: 0.6155 - val_accuracy: 0.5105\n",
      "Epoch 18/100\n",
      "161/161 [==============================] - 0s 2ms/step - loss: 0.2934 - accuracy: 0.7571 - val_loss: 0.6155 - val_accuracy: 0.5105\n",
      "Epoch 19/100\n",
      "161/161 [==============================] - 0s 2ms/step - loss: 0.2923 - accuracy: 0.7540 - val_loss: 0.6155 - val_accuracy: 0.5105\n",
      "Epoch 20/100\n",
      "161/161 [==============================] - 0s 2ms/step - loss: 0.2934 - accuracy: 0.7556 - val_loss: 0.6155 - val_accuracy: 0.5105\n",
      "Epoch 21/100\n",
      "161/161 [==============================] - 0s 2ms/step - loss: 0.2909 - accuracy: 0.7594 - val_loss: 0.6155 - val_accuracy: 0.5105\n",
      "Epoch 22/100\n",
      "161/161 [==============================] - 0s 2ms/step - loss: 0.2922 - accuracy: 0.7539 - val_loss: 0.6155 - val_accuracy: 0.5105\n",
      "Epoch 23/100\n",
      "161/161 [==============================] - 0s 2ms/step - loss: 0.2931 - accuracy: 0.7557 - val_loss: 0.6155 - val_accuracy: 0.5105\n",
      "Epoch 24/100\n",
      "161/161 [==============================] - 0s 2ms/step - loss: 0.2921 - accuracy: 0.7575 - val_loss: 0.6155 - val_accuracy: 0.5105\n",
      "Epoch 25/100\n",
      "161/161 [==============================] - 0s 2ms/step - loss: 0.2916 - accuracy: 0.7585 - val_loss: 0.6155 - val_accuracy: 0.5105\n",
      "Epoch 26/100\n",
      "161/161 [==============================] - 0s 2ms/step - loss: 0.2910 - accuracy: 0.7588 - val_loss: 0.6155 - val_accuracy: 0.5105\n",
      "Epoch 27/100\n",
      "161/161 [==============================] - 0s 2ms/step - loss: 0.2927 - accuracy: 0.7556 - val_loss: 0.6155 - val_accuracy: 0.5105\n",
      "Epoch 28/100\n",
      "161/161 [==============================] - 0s 2ms/step - loss: 0.2931 - accuracy: 0.7538 - val_loss: 0.6155 - val_accuracy: 0.5105\n",
      "Epoch 29/100\n",
      "161/161 [==============================] - 0s 2ms/step - loss: 0.2913 - accuracy: 0.7582 - val_loss: 0.6155 - val_accuracy: 0.5105\n",
      "Epoch 30/100\n",
      "161/161 [==============================] - 0s 2ms/step - loss: 0.2930 - accuracy: 0.7577 - val_loss: 0.6155 - val_accuracy: 0.5105\n",
      "Epoch 31/100\n",
      "161/161 [==============================] - 0s 2ms/step - loss: 0.2932 - accuracy: 0.7563 - val_loss: 0.6155 - val_accuracy: 0.5105\n",
      "Epoch 32/100\n",
      "161/161 [==============================] - 0s 2ms/step - loss: 0.2920 - accuracy: 0.7579 - val_loss: 0.6155 - val_accuracy: 0.5105\n",
      "Epoch 33/100\n",
      "161/161 [==============================] - 0s 2ms/step - loss: 0.2912 - accuracy: 0.7573 - val_loss: 0.6155 - val_accuracy: 0.5105\n",
      "Epoch 34/100\n",
      "161/161 [==============================] - 0s 2ms/step - loss: 0.2915 - accuracy: 0.7573 - val_loss: 0.6155 - val_accuracy: 0.5105\n",
      "Epoch 35/100\n",
      "161/161 [==============================] - 0s 2ms/step - loss: 0.2925 - accuracy: 0.7562 - val_loss: 0.6155 - val_accuracy: 0.5105\n",
      "Epoch 36/100\n",
      "161/161 [==============================] - 0s 2ms/step - loss: 0.2912 - accuracy: 0.7589 - val_loss: 0.6155 - val_accuracy: 0.5105\n",
      "Epoch 37/100\n",
      "161/161 [==============================] - 0s 2ms/step - loss: 0.2917 - accuracy: 0.7568 - val_loss: 0.6155 - val_accuracy: 0.5105\n",
      "Epoch 38/100\n",
      "161/161 [==============================] - 0s 2ms/step - loss: 0.2924 - accuracy: 0.7572 - val_loss: 0.6155 - val_accuracy: 0.5105\n",
      "Epoch 39/100\n",
      "161/161 [==============================] - 0s 2ms/step - loss: 0.2935 - accuracy: 0.7555 - val_loss: 0.6155 - val_accuracy: 0.5105\n",
      "Epoch 40/100\n",
      "161/161 [==============================] - 0s 2ms/step - loss: 0.2929 - accuracy: 0.7558 - val_loss: 0.6155 - val_accuracy: 0.5105\n",
      "Epoch 41/100\n",
      "161/161 [==============================] - 0s 2ms/step - loss: 0.2923 - accuracy: 0.7592 - val_loss: 0.6155 - val_accuracy: 0.5105\n",
      "Epoch 42/100\n",
      "161/161 [==============================] - 0s 2ms/step - loss: 0.2914 - accuracy: 0.7587 - val_loss: 0.6155 - val_accuracy: 0.5105\n",
      "Epoch 43/100\n",
      "161/161 [==============================] - 0s 2ms/step - loss: 0.2925 - accuracy: 0.7568 - val_loss: 0.6155 - val_accuracy: 0.5105\n",
      "Epoch 44/100\n",
      "161/161 [==============================] - 0s 2ms/step - loss: 0.2917 - accuracy: 0.7606 - val_loss: 0.6155 - val_accuracy: 0.5105\n",
      "Epoch 45/100\n",
      "161/161 [==============================] - 0s 2ms/step - loss: 0.2920 - accuracy: 0.7588 - val_loss: 0.6155 - val_accuracy: 0.5105\n",
      "Epoch 46/100\n",
      "161/161 [==============================] - 0s 2ms/step - loss: 0.2931 - accuracy: 0.7544 - val_loss: 0.6155 - val_accuracy: 0.5105\n",
      "Epoch 47/100\n",
      "161/161 [==============================] - 0s 2ms/step - loss: 0.2925 - accuracy: 0.7569 - val_loss: 0.6155 - val_accuracy: 0.5105\n",
      "Epoch 48/100\n",
      "161/161 [==============================] - 0s 2ms/step - loss: 0.2912 - accuracy: 0.7572 - val_loss: 0.6155 - val_accuracy: 0.5105\n",
      "Epoch 49/100\n",
      "161/161 [==============================] - 0s 2ms/step - loss: 0.2911 - accuracy: 0.7593 - val_loss: 0.6155 - val_accuracy: 0.5105\n",
      "Epoch 50/100\n",
      "161/161 [==============================] - 0s 2ms/step - loss: 0.2917 - accuracy: 0.7564 - val_loss: 0.6155 - val_accuracy: 0.5105\n",
      "Epoch 51/100\n",
      "161/161 [==============================] - 0s 2ms/step - loss: 0.2928 - accuracy: 0.7542 - val_loss: 0.6155 - val_accuracy: 0.5105\n",
      "Epoch 52/100\n",
      "161/161 [==============================] - 0s 2ms/step - loss: 0.2923 - accuracy: 0.7557 - val_loss: 0.6155 - val_accuracy: 0.5105\n",
      "Epoch 53/100\n",
      "161/161 [==============================] - 0s 2ms/step - loss: 0.2913 - accuracy: 0.7575 - val_loss: 0.6155 - val_accuracy: 0.5105\n",
      "Epoch 54/100\n",
      "161/161 [==============================] - 0s 2ms/step - loss: 0.2929 - accuracy: 0.7548 - val_loss: 0.6155 - val_accuracy: 0.5105\n",
      "Epoch 55/100\n",
      "161/161 [==============================] - 0s 2ms/step - loss: 0.2921 - accuracy: 0.7572 - val_loss: 0.6155 - val_accuracy: 0.5105\n",
      "Epoch 56/100\n",
      "161/161 [==============================] - 0s 2ms/step - loss: 0.2943 - accuracy: 0.7527 - val_loss: 0.6155 - val_accuracy: 0.5105\n",
      "Epoch 57/100\n",
      "161/161 [==============================] - 0s 2ms/step - loss: 0.2933 - accuracy: 0.7549 - val_loss: 0.6155 - val_accuracy: 0.5105\n",
      "Epoch 58/100\n",
      "161/161 [==============================] - 0s 2ms/step - loss: 0.2924 - accuracy: 0.7573 - val_loss: 0.6155 - val_accuracy: 0.5105\n",
      "Epoch 59/100\n",
      "161/161 [==============================] - 0s 2ms/step - loss: 0.2904 - accuracy: 0.7590 - val_loss: 0.6155 - val_accuracy: 0.5105\n",
      "Epoch 60/100\n",
      "161/161 [==============================] - 0s 2ms/step - loss: 0.2918 - accuracy: 0.7592 - val_loss: 0.6155 - val_accuracy: 0.5105\n",
      "Epoch 61/100\n",
      "161/161 [==============================] - 0s 2ms/step - loss: 0.2937 - accuracy: 0.7534 - val_loss: 0.6155 - val_accuracy: 0.5105\n",
      "Epoch 62/100\n",
      "161/161 [==============================] - 0s 2ms/step - loss: 0.2918 - accuracy: 0.7555 - val_loss: 0.6155 - val_accuracy: 0.5105\n",
      "Epoch 63/100\n",
      "161/161 [==============================] - 0s 2ms/step - loss: 0.2932 - accuracy: 0.7581 - val_loss: 0.6155 - val_accuracy: 0.5105\n",
      "Epoch 64/100\n",
      "161/161 [==============================] - 0s 2ms/step - loss: 0.2920 - accuracy: 0.7597 - val_loss: 0.6155 - val_accuracy: 0.5105\n",
      "Epoch 65/100\n",
      "161/161 [==============================] - 0s 2ms/step - loss: 0.2909 - accuracy: 0.7602 - val_loss: 0.6155 - val_accuracy: 0.5105\n",
      "Epoch 66/100\n",
      "161/161 [==============================] - 0s 2ms/step - loss: 0.2934 - accuracy: 0.7576 - val_loss: 0.6155 - val_accuracy: 0.5105\n",
      "Epoch 67/100\n",
      "161/161 [==============================] - 0s 2ms/step - loss: 0.2922 - accuracy: 0.7572 - val_loss: 0.6155 - val_accuracy: 0.5105\n",
      "Epoch 68/100\n",
      "161/161 [==============================] - 0s 2ms/step - loss: 0.2921 - accuracy: 0.7601 - val_loss: 0.6155 - val_accuracy: 0.5105\n",
      "Epoch 69/100\n",
      "161/161 [==============================] - 0s 2ms/step - loss: 0.2927 - accuracy: 0.7548 - val_loss: 0.6155 - val_accuracy: 0.5105\n",
      "Epoch 70/100\n",
      "161/161 [==============================] - 0s 2ms/step - loss: 0.2916 - accuracy: 0.7578 - val_loss: 0.6155 - val_accuracy: 0.5105\n",
      "Epoch 71/100\n",
      "161/161 [==============================] - 0s 2ms/step - loss: 0.2922 - accuracy: 0.7577 - val_loss: 0.6155 - val_accuracy: 0.5105\n",
      "Epoch 72/100\n",
      "161/161 [==============================] - 0s 2ms/step - loss: 0.2928 - accuracy: 0.7561 - val_loss: 0.6155 - val_accuracy: 0.5105\n",
      "Epoch 73/100\n",
      "161/161 [==============================] - 0s 2ms/step - loss: 0.2927 - accuracy: 0.7568 - val_loss: 0.6155 - val_accuracy: 0.5105\n",
      "Epoch 74/100\n",
      "161/161 [==============================] - 0s 2ms/step - loss: 0.2925 - accuracy: 0.7558 - val_loss: 0.6155 - val_accuracy: 0.5105\n",
      "Epoch 75/100\n",
      "161/161 [==============================] - 0s 2ms/step - loss: 0.2916 - accuracy: 0.7582 - val_loss: 0.6155 - val_accuracy: 0.5105\n",
      "Epoch 76/100\n",
      "161/161 [==============================] - 0s 2ms/step - loss: 0.2930 - accuracy: 0.7581 - val_loss: 0.6155 - val_accuracy: 0.5105\n",
      "Epoch 77/100\n",
      "161/161 [==============================] - 0s 2ms/step - loss: 0.2929 - accuracy: 0.7561 - val_loss: 0.6155 - val_accuracy: 0.5105\n",
      "Epoch 78/100\n",
      "161/161 [==============================] - 0s 2ms/step - loss: 0.2927 - accuracy: 0.7539 - val_loss: 0.6155 - val_accuracy: 0.5105\n",
      "Epoch 79/100\n",
      "161/161 [==============================] - 0s 2ms/step - loss: 0.2907 - accuracy: 0.7572 - val_loss: 0.6155 - val_accuracy: 0.5105\n",
      "Epoch 80/100\n",
      "161/161 [==============================] - 0s 2ms/step - loss: 0.2924 - accuracy: 0.7570 - val_loss: 0.6155 - val_accuracy: 0.5105\n",
      "Epoch 81/100\n",
      "161/161 [==============================] - 0s 2ms/step - loss: 0.2926 - accuracy: 0.7574 - val_loss: 0.6155 - val_accuracy: 0.5105\n",
      "Epoch 82/100\n",
      "161/161 [==============================] - 0s 2ms/step - loss: 0.2917 - accuracy: 0.7556 - val_loss: 0.6155 - val_accuracy: 0.5105\n",
      "Epoch 83/100\n",
      "161/161 [==============================] - 0s 2ms/step - loss: 0.2915 - accuracy: 0.7577 - val_loss: 0.6155 - val_accuracy: 0.5105\n",
      "Epoch 84/100\n",
      "161/161 [==============================] - 0s 2ms/step - loss: 0.2918 - accuracy: 0.7585 - val_loss: 0.6155 - val_accuracy: 0.5105\n",
      "Epoch 85/100\n",
      "161/161 [==============================] - 0s 2ms/step - loss: 0.2925 - accuracy: 0.7550 - val_loss: 0.6155 - val_accuracy: 0.5105\n",
      "Epoch 86/100\n",
      "161/161 [==============================] - 0s 2ms/step - loss: 0.2932 - accuracy: 0.7563 - val_loss: 0.6155 - val_accuracy: 0.5105\n",
      "Epoch 87/100\n",
      "161/161 [==============================] - 0s 2ms/step - loss: 0.2918 - accuracy: 0.7590 - val_loss: 0.6155 - val_accuracy: 0.5105\n",
      "Epoch 88/100\n",
      "161/161 [==============================] - 0s 2ms/step - loss: 0.2927 - accuracy: 0.7552 - val_loss: 0.6155 - val_accuracy: 0.5105\n",
      "Epoch 89/100\n",
      "161/161 [==============================] - 0s 2ms/step - loss: 0.2912 - accuracy: 0.7581 - val_loss: 0.6155 - val_accuracy: 0.5105\n",
      "Epoch 90/100\n",
      "161/161 [==============================] - 0s 2ms/step - loss: 0.2934 - accuracy: 0.7562 - val_loss: 0.6155 - val_accuracy: 0.5105\n",
      "Epoch 91/100\n",
      "161/161 [==============================] - 0s 2ms/step - loss: 0.2937 - accuracy: 0.7550 - val_loss: 0.6155 - val_accuracy: 0.5105\n",
      "Epoch 92/100\n",
      "161/161 [==============================] - 0s 2ms/step - loss: 0.2910 - accuracy: 0.7619 - val_loss: 0.6155 - val_accuracy: 0.5105\n",
      "Epoch 93/100\n",
      "161/161 [==============================] - 0s 2ms/step - loss: 0.2925 - accuracy: 0.7586 - val_loss: 0.6155 - val_accuracy: 0.5105\n",
      "Epoch 94/100\n",
      "161/161 [==============================] - 0s 2ms/step - loss: 0.2927 - accuracy: 0.7551 - val_loss: 0.6155 - val_accuracy: 0.5105\n",
      "Epoch 95/100\n",
      "161/161 [==============================] - 0s 2ms/step - loss: 0.2918 - accuracy: 0.7615 - val_loss: 0.6155 - val_accuracy: 0.5105\n",
      "Epoch 96/100\n",
      "161/161 [==============================] - 0s 2ms/step - loss: 0.2924 - accuracy: 0.7562 - val_loss: 0.6155 - val_accuracy: 0.5105\n",
      "Epoch 97/100\n",
      "161/161 [==============================] - 0s 2ms/step - loss: 0.2938 - accuracy: 0.7552 - val_loss: 0.6155 - val_accuracy: 0.5105\n",
      "Epoch 98/100\n",
      "161/161 [==============================] - 0s 2ms/step - loss: 0.2912 - accuracy: 0.7599 - val_loss: 0.6155 - val_accuracy: 0.5105\n",
      "Epoch 99/100\n",
      "161/161 [==============================] - 0s 2ms/step - loss: 0.2906 - accuracy: 0.7587 - val_loss: 0.6155 - val_accuracy: 0.5105\n",
      "Epoch 100/100\n",
      "161/161 [==============================] - 0s 2ms/step - loss: 0.2934 - accuracy: 0.7516 - val_loss: 0.6155 - val_accuracy: 0.5105\n",
      "72/72 [==============================] - 0s 765us/step - loss: 0.6155 - accuracy: 0.5105\n",
      "Test Loss: 0.6155\n",
      "Test Accuracy: 51.05%\n"
     ]
    }
   ],
   "source": [
    "scaler = StandardScaler()\n",
    "X_train = scaler.fit_transform(X_train)\n",
    "X_test = scaler.transform(X_test)\n",
    "\n",
    "model = keras.Sequential([\n",
    "    keras.layers.Input(shape=(12,)),\n",
    "    keras.layers.Dense(64, activation='relu', kernel_regularizer=keras.regularizers.l2(0.001)),\n",
    "    keras.layers.BatchNormalization(),\n",
    "    keras.layers.Dropout(0.4),\n",
    "    keras.layers.Dense(128, activation='relu', kernel_regularizer=keras.regularizers.l2(0.001)),\n",
    "    keras.layers.BatchNormalization(),\n",
    "    keras.layers.Dropout(0.6),\n",
    "    keras.layers.Dense(64, activation='relu', kernel_regularizer=keras.regularizers.l2(0.001)),\n",
    "    keras.layers.Dense(1, activation='sigmoid')\n",
    "])\n",
    "\n",
    "initial_learning_rate = 0.014\n",
    "lr_schedule = tf.keras.optimizers.schedules.ExponentialDecay(\n",
    "    initial_learning_rate, decay_steps=40, decay_rate=0.007, staircase=True\n",
    ")\n",
    "optimizer = tf.keras.optimizers.Adam(learning_rate=lr_schedule)\n",
    "\n",
    "model.compile(optimizer=optimizer, loss='mean_squared_error', metrics=['accuracy'])\n",
    "\n",
    "model.fit(X_train, y_train, epochs=100, batch_size=128, validation_data=(X_test, y_test))\n",
    "\n",
    "loss, accuracy = model.evaluate(X_test, y_test)\n",
    "print(f\"Test Loss: {loss:.4f}\")\n",
    "print(f\"Test Accuracy: {accuracy * 100:.2f}%\")\n"
   ]
  },
  {
   "cell_type": "code",
   "execution_count": 100,
   "metadata": {},
   "outputs": [
    {
     "name": "stdout",
     "output_type": "stream",
     "text": [
      "72/72 [==============================] - 0s 794us/step\n",
      "              precision    recall  f1-score   support\n",
      "\n",
      "           0       0.51      0.99      0.67      1150\n",
      "           1       0.74      0.02      0.04      1136\n",
      "\n",
      "    accuracy                           0.51      2286\n",
      "   macro avg       0.62      0.51      0.36      2286\n",
      "weighted avg       0.62      0.51      0.36      2286\n",
      "\n"
     ]
    }
   ],
   "source": [
    "y_pred = model.predict(X_test)\n",
    "\n",
    "# Assuming y_pred contains probabilities, you can convert them to binary labels\n",
    "y_pred_binary = (y_pred > 0.5).astype(int)\n",
    "\n",
    "# Generate a classification report\n",
    "report = classification_report(y_test, y_pred_binary,zero_division=0)\n",
    "\n",
    "print(report)"
   ]
  },
  {
   "cell_type": "code",
   "execution_count": 9,
   "id": "60dc9efe",
   "metadata": {},
   "outputs": [
    {
     "ename": "NotFittedError",
     "evalue": "This StandardScaler instance is not fitted yet. Call 'fit' with appropriate arguments before using this estimator.",
     "output_type": "error",
     "traceback": [
      "\u001b[1;31m---------------------------------------------------------------------------\u001b[0m",
      "\u001b[1;31mNotFittedError\u001b[0m                            Traceback (most recent call last)",
      "\u001b[1;32me:\\sem3\\projectsem3\\HeartDiseasePredictionModel copy.ipynb Cell 51\u001b[0m line \u001b[0;36m2\n\u001b[0;32m     <a href='vscode-notebook-cell:/e%3A/sem3/projectsem3/HeartDiseasePredictionModel%20copy.ipynb#Y101sZmlsZQ%3D%3D?line=17'>18</a>\u001b[0m bmi \u001b[39m=\u001b[39m \u001b[39m26.52\u001b[39m\n\u001b[0;32m     <a href='vscode-notebook-cell:/e%3A/sem3/projectsem3/HeartDiseasePredictionModel%20copy.ipynb#Y101sZmlsZQ%3D%3D?line=18'>19</a>\u001b[0m glucose \u001b[39m=\u001b[39m \u001b[39m100\u001b[39m\n\u001b[1;32m---> <a href='vscode-notebook-cell:/e%3A/sem3/projectsem3/HeartDiseasePredictionModel%20copy.ipynb#Y101sZmlsZQ%3D%3D?line=20'>21</a>\u001b[0m heart_disease_likelihood \u001b[39m=\u001b[39m predict_heart_disease_risk(age, gender, cigsperday, bpmeds, prevalentstroke, prevalenthyp, diabetes, totcholesterol, sysbp, diabp, bmi, glucose)\n\u001b[0;32m     <a href='vscode-notebook-cell:/e%3A/sem3/projectsem3/HeartDiseasePredictionModel%20copy.ipynb#Y101sZmlsZQ%3D%3D?line=22'>23</a>\u001b[0m \u001b[39mprint\u001b[39m(\u001b[39mf\u001b[39m\u001b[39m\"\u001b[39m\u001b[39mLikelihood of Heart Disease: \u001b[39m\u001b[39m{\u001b[39;00mheart_disease_likelihood\u001b[39m:\u001b[39;00m\u001b[39m.2f\u001b[39m\u001b[39m}\u001b[39;00m\u001b[39m%\u001b[39m\u001b[39m\"\u001b[39m)\n",
      "\u001b[1;32me:\\sem3\\projectsem3\\HeartDiseasePredictionModel copy.ipynb Cell 51\u001b[0m line \u001b[0;36m3\n\u001b[0;32m      <a href='vscode-notebook-cell:/e%3A/sem3/projectsem3/HeartDiseasePredictionModel%20copy.ipynb#Y101sZmlsZQ%3D%3D?line=0'>1</a>\u001b[0m \u001b[39mdef\u001b[39;00m \u001b[39mpredict_heart_disease_risk\u001b[39m(age, gender, cigsperday, bpmeds, prevalentstroke, prevalenthyp, diabetes, totcholesterol, sysbp, diabp, bmi, glucose):\n\u001b[0;32m      <a href='vscode-notebook-cell:/e%3A/sem3/projectsem3/HeartDiseasePredictionModel%20copy.ipynb#Y101sZmlsZQ%3D%3D?line=1'>2</a>\u001b[0m     input_data \u001b[39m=\u001b[39m np\u001b[39m.\u001b[39marray([[age, gender, cigsperday, bpmeds, prevalentstroke, prevalenthyp, diabetes, totcholesterol, sysbp, diabp, bmi, glucose]])\n\u001b[1;32m----> <a href='vscode-notebook-cell:/e%3A/sem3/projectsem3/HeartDiseasePredictionModel%20copy.ipynb#Y101sZmlsZQ%3D%3D?line=2'>3</a>\u001b[0m     input_data \u001b[39m=\u001b[39m scaler\u001b[39m.\u001b[39;49mtransform(input_data)  \u001b[39m# Scale the input data\u001b[39;00m\n\u001b[0;32m      <a href='vscode-notebook-cell:/e%3A/sem3/projectsem3/HeartDiseasePredictionModel%20copy.ipynb#Y101sZmlsZQ%3D%3D?line=3'>4</a>\u001b[0m     probabilities \u001b[39m=\u001b[39m loaded_model\u001b[39m.\u001b[39mpredict_proba(input_data)\n\u001b[0;32m      <a href='vscode-notebook-cell:/e%3A/sem3/projectsem3/HeartDiseasePredictionModel%20copy.ipynb#Y101sZmlsZQ%3D%3D?line=4'>5</a>\u001b[0m     likelihood_of_heart_disease \u001b[39m=\u001b[39m (((probabilities[\u001b[39m0\u001b[39m][\u001b[39m0\u001b[39m]\u001b[39m*\u001b[39m\u001b[39m100\u001b[39m)\u001b[39m-\u001b[39m\u001b[39m70\u001b[39m)\u001b[39m/\u001b[39m(\u001b[39m89\u001b[39m\u001b[39m-\u001b[39m(probabilities[\u001b[39m0\u001b[39m][\u001b[39m0\u001b[39m]\u001b[39m*\u001b[39m\u001b[39m100\u001b[39m)))\u001b[39m*\u001b[39m\u001b[39m100\u001b[39m\n",
      "File \u001b[1;32m~\\AppData\\Roaming\\Python\\Python310\\site-packages\\sklearn\\utils\\_set_output.py:157\u001b[0m, in \u001b[0;36m_wrap_method_output.<locals>.wrapped\u001b[1;34m(self, X, *args, **kwargs)\u001b[0m\n\u001b[0;32m    155\u001b[0m \u001b[39m@wraps\u001b[39m(f)\n\u001b[0;32m    156\u001b[0m \u001b[39mdef\u001b[39;00m \u001b[39mwrapped\u001b[39m(\u001b[39mself\u001b[39m, X, \u001b[39m*\u001b[39margs, \u001b[39m*\u001b[39m\u001b[39m*\u001b[39mkwargs):\n\u001b[1;32m--> 157\u001b[0m     data_to_wrap \u001b[39m=\u001b[39m f(\u001b[39mself\u001b[39m, X, \u001b[39m*\u001b[39margs, \u001b[39m*\u001b[39m\u001b[39m*\u001b[39mkwargs)\n\u001b[0;32m    158\u001b[0m     \u001b[39mif\u001b[39;00m \u001b[39misinstance\u001b[39m(data_to_wrap, \u001b[39mtuple\u001b[39m):\n\u001b[0;32m    159\u001b[0m         \u001b[39m# only wrap the first output for cross decomposition\u001b[39;00m\n\u001b[0;32m    160\u001b[0m         return_tuple \u001b[39m=\u001b[39m (\n\u001b[0;32m    161\u001b[0m             _wrap_data_with_container(method, data_to_wrap[\u001b[39m0\u001b[39m], X, \u001b[39mself\u001b[39m),\n\u001b[0;32m    162\u001b[0m             \u001b[39m*\u001b[39mdata_to_wrap[\u001b[39m1\u001b[39m:],\n\u001b[0;32m    163\u001b[0m         )\n",
      "File \u001b[1;32m~\\AppData\\Roaming\\Python\\Python310\\site-packages\\sklearn\\preprocessing\\_data.py:1003\u001b[0m, in \u001b[0;36mStandardScaler.transform\u001b[1;34m(self, X, copy)\u001b[0m\n\u001b[0;32m    988\u001b[0m \u001b[39mdef\u001b[39;00m \u001b[39mtransform\u001b[39m(\u001b[39mself\u001b[39m, X, copy\u001b[39m=\u001b[39m\u001b[39mNone\u001b[39;00m):\n\u001b[0;32m    989\u001b[0m \u001b[39m    \u001b[39m\u001b[39m\"\"\"Perform standardization by centering and scaling.\u001b[39;00m\n\u001b[0;32m    990\u001b[0m \n\u001b[0;32m    991\u001b[0m \u001b[39m    Parameters\u001b[39;00m\n\u001b[1;32m   (...)\u001b[0m\n\u001b[0;32m   1001\u001b[0m \u001b[39m        Transformed array.\u001b[39;00m\n\u001b[0;32m   1002\u001b[0m \u001b[39m    \"\"\"\u001b[39;00m\n\u001b[1;32m-> 1003\u001b[0m     check_is_fitted(\u001b[39mself\u001b[39;49m)\n\u001b[0;32m   1005\u001b[0m     copy \u001b[39m=\u001b[39m copy \u001b[39mif\u001b[39;00m copy \u001b[39mis\u001b[39;00m \u001b[39mnot\u001b[39;00m \u001b[39mNone\u001b[39;00m \u001b[39melse\u001b[39;00m \u001b[39mself\u001b[39m\u001b[39m.\u001b[39mcopy\n\u001b[0;32m   1006\u001b[0m     X \u001b[39m=\u001b[39m \u001b[39mself\u001b[39m\u001b[39m.\u001b[39m_validate_data(\n\u001b[0;32m   1007\u001b[0m         X,\n\u001b[0;32m   1008\u001b[0m         reset\u001b[39m=\u001b[39m\u001b[39mFalse\u001b[39;00m,\n\u001b[1;32m   (...)\u001b[0m\n\u001b[0;32m   1012\u001b[0m         force_all_finite\u001b[39m=\u001b[39m\u001b[39m\"\u001b[39m\u001b[39mallow-nan\u001b[39m\u001b[39m\"\u001b[39m,\n\u001b[0;32m   1013\u001b[0m     )\n",
      "File \u001b[1;32m~\\AppData\\Roaming\\Python\\Python310\\site-packages\\sklearn\\utils\\validation.py:1461\u001b[0m, in \u001b[0;36mcheck_is_fitted\u001b[1;34m(estimator, attributes, msg, all_or_any)\u001b[0m\n\u001b[0;32m   1458\u001b[0m     \u001b[39mraise\u001b[39;00m \u001b[39mTypeError\u001b[39;00m(\u001b[39m\"\u001b[39m\u001b[39m%s\u001b[39;00m\u001b[39m is not an estimator instance.\u001b[39m\u001b[39m\"\u001b[39m \u001b[39m%\u001b[39m (estimator))\n\u001b[0;32m   1460\u001b[0m \u001b[39mif\u001b[39;00m \u001b[39mnot\u001b[39;00m _is_fitted(estimator, attributes, all_or_any):\n\u001b[1;32m-> 1461\u001b[0m     \u001b[39mraise\u001b[39;00m NotFittedError(msg \u001b[39m%\u001b[39m {\u001b[39m\"\u001b[39m\u001b[39mname\u001b[39m\u001b[39m\"\u001b[39m: \u001b[39mtype\u001b[39m(estimator)\u001b[39m.\u001b[39m\u001b[39m__name__\u001b[39m})\n",
      "\u001b[1;31mNotFittedError\u001b[0m: This StandardScaler instance is not fitted yet. Call 'fit' with appropriate arguments before using this estimator."
     ]
    }
   ],
   "source": []
  },
  {
   "cell_type": "code",
   "execution_count": 44,
   "metadata": {},
   "outputs": [],
   "source": [
    "import joblib\n",
    "model_file_name=\"E:\\sem3\\projectsem3\\heartprediction(Acc=93.53).pkl\"\n",
    "loaded_model=joblib.load(model_file_name)"
   ]
  },
  {
   "cell_type": "code",
   "execution_count": 45,
   "metadata": {},
   "outputs": [
    {
     "ename": "NotFittedError",
     "evalue": "This StandardScaler instance is not fitted yet. Call 'fit' with appropriate arguments before using this estimator.",
     "output_type": "error",
     "traceback": [
      "\u001b[1;31m---------------------------------------------------------------------------\u001b[0m",
      "\u001b[1;31mNotFittedError\u001b[0m                            Traceback (most recent call last)",
      "\u001b[1;32me:\\sem3\\projectsem3\\HeartDiseasePredictionModel copy.ipynb Cell 52\u001b[0m line \u001b[0;36m2\n\u001b[0;32m     <a href='vscode-notebook-cell:/e%3A/sem3/projectsem3/HeartDiseasePredictionModel%20copy.ipynb#Y102sZmlsZQ%3D%3D?line=17'>18</a>\u001b[0m bmi \u001b[39m=\u001b[39m \u001b[39m26.52\u001b[39m\n\u001b[0;32m     <a href='vscode-notebook-cell:/e%3A/sem3/projectsem3/HeartDiseasePredictionModel%20copy.ipynb#Y102sZmlsZQ%3D%3D?line=18'>19</a>\u001b[0m glucose \u001b[39m=\u001b[39m \u001b[39m100\u001b[39m\n\u001b[1;32m---> <a href='vscode-notebook-cell:/e%3A/sem3/projectsem3/HeartDiseasePredictionModel%20copy.ipynb#Y102sZmlsZQ%3D%3D?line=20'>21</a>\u001b[0m heart_disease_likelihood \u001b[39m=\u001b[39m predict_heart_disease_risk(age, gender, cigsperday, bpmeds, prevalentstroke, prevalenthyp, diabetes, totcholesterol, sysbp, diabp, bmi, glucose)\n\u001b[0;32m     <a href='vscode-notebook-cell:/e%3A/sem3/projectsem3/HeartDiseasePredictionModel%20copy.ipynb#Y102sZmlsZQ%3D%3D?line=22'>23</a>\u001b[0m \u001b[39mprint\u001b[39m(\u001b[39mf\u001b[39m\u001b[39m\"\u001b[39m\u001b[39mLikelihood of Heart Disease: \u001b[39m\u001b[39m{\u001b[39;00mheart_disease_likelihood\u001b[39m:\u001b[39;00m\u001b[39m.2f\u001b[39m\u001b[39m}\u001b[39;00m\u001b[39m%\u001b[39m\u001b[39m\"\u001b[39m)\n",
      "\u001b[1;32me:\\sem3\\projectsem3\\HeartDiseasePredictionModel copy.ipynb Cell 52\u001b[0m line \u001b[0;36m3\n\u001b[0;32m      <a href='vscode-notebook-cell:/e%3A/sem3/projectsem3/HeartDiseasePredictionModel%20copy.ipynb#Y102sZmlsZQ%3D%3D?line=0'>1</a>\u001b[0m \u001b[39mdef\u001b[39;00m \u001b[39mpredict_heart_disease_risk\u001b[39m(age, gender, cigsperday, bpmeds, prevalentstroke, prevalenthyp, diabetes, totcholesterol, sysbp, diabp, bmi, glucose):\n\u001b[0;32m      <a href='vscode-notebook-cell:/e%3A/sem3/projectsem3/HeartDiseasePredictionModel%20copy.ipynb#Y102sZmlsZQ%3D%3D?line=1'>2</a>\u001b[0m     input_data \u001b[39m=\u001b[39m np\u001b[39m.\u001b[39marray([[age, gender, cigsperday, bpmeds, prevalentstroke, prevalenthyp, diabetes, totcholesterol, sysbp, diabp, bmi, glucose]])\n\u001b[1;32m----> <a href='vscode-notebook-cell:/e%3A/sem3/projectsem3/HeartDiseasePredictionModel%20copy.ipynb#Y102sZmlsZQ%3D%3D?line=2'>3</a>\u001b[0m     input_data \u001b[39m=\u001b[39m scaler\u001b[39m.\u001b[39;49mtransform(input_data)  \u001b[39m# Scale the input data\u001b[39;00m\n\u001b[0;32m      <a href='vscode-notebook-cell:/e%3A/sem3/projectsem3/HeartDiseasePredictionModel%20copy.ipynb#Y102sZmlsZQ%3D%3D?line=3'>4</a>\u001b[0m     probabilities \u001b[39m=\u001b[39m loaded_model\u001b[39m.\u001b[39mpredict_proba(input_data)\n\u001b[0;32m      <a href='vscode-notebook-cell:/e%3A/sem3/projectsem3/HeartDiseasePredictionModel%20copy.ipynb#Y102sZmlsZQ%3D%3D?line=4'>5</a>\u001b[0m     likelihood_of_heart_disease \u001b[39m=\u001b[39m (((probabilities[\u001b[39m0\u001b[39m][\u001b[39m0\u001b[39m]\u001b[39m*\u001b[39m\u001b[39m100\u001b[39m)\u001b[39m-\u001b[39m\u001b[39m70\u001b[39m)\u001b[39m/\u001b[39m(\u001b[39m89\u001b[39m\u001b[39m-\u001b[39m(probabilities[\u001b[39m0\u001b[39m][\u001b[39m0\u001b[39m]\u001b[39m*\u001b[39m\u001b[39m100\u001b[39m)))\u001b[39m*\u001b[39m\u001b[39m100\u001b[39m\n",
      "File \u001b[1;32m~\\AppData\\Roaming\\Python\\Python310\\site-packages\\sklearn\\utils\\_set_output.py:157\u001b[0m, in \u001b[0;36m_wrap_method_output.<locals>.wrapped\u001b[1;34m(self, X, *args, **kwargs)\u001b[0m\n\u001b[0;32m    155\u001b[0m \u001b[39m@wraps\u001b[39m(f)\n\u001b[0;32m    156\u001b[0m \u001b[39mdef\u001b[39;00m \u001b[39mwrapped\u001b[39m(\u001b[39mself\u001b[39m, X, \u001b[39m*\u001b[39margs, \u001b[39m*\u001b[39m\u001b[39m*\u001b[39mkwargs):\n\u001b[1;32m--> 157\u001b[0m     data_to_wrap \u001b[39m=\u001b[39m f(\u001b[39mself\u001b[39m, X, \u001b[39m*\u001b[39margs, \u001b[39m*\u001b[39m\u001b[39m*\u001b[39mkwargs)\n\u001b[0;32m    158\u001b[0m     \u001b[39mif\u001b[39;00m \u001b[39misinstance\u001b[39m(data_to_wrap, \u001b[39mtuple\u001b[39m):\n\u001b[0;32m    159\u001b[0m         \u001b[39m# only wrap the first output for cross decomposition\u001b[39;00m\n\u001b[0;32m    160\u001b[0m         return_tuple \u001b[39m=\u001b[39m (\n\u001b[0;32m    161\u001b[0m             _wrap_data_with_container(method, data_to_wrap[\u001b[39m0\u001b[39m], X, \u001b[39mself\u001b[39m),\n\u001b[0;32m    162\u001b[0m             \u001b[39m*\u001b[39mdata_to_wrap[\u001b[39m1\u001b[39m:],\n\u001b[0;32m    163\u001b[0m         )\n",
      "File \u001b[1;32m~\\AppData\\Roaming\\Python\\Python310\\site-packages\\sklearn\\preprocessing\\_data.py:1003\u001b[0m, in \u001b[0;36mStandardScaler.transform\u001b[1;34m(self, X, copy)\u001b[0m\n\u001b[0;32m    988\u001b[0m \u001b[39mdef\u001b[39;00m \u001b[39mtransform\u001b[39m(\u001b[39mself\u001b[39m, X, copy\u001b[39m=\u001b[39m\u001b[39mNone\u001b[39;00m):\n\u001b[0;32m    989\u001b[0m \u001b[39m    \u001b[39m\u001b[39m\"\"\"Perform standardization by centering and scaling.\u001b[39;00m\n\u001b[0;32m    990\u001b[0m \n\u001b[0;32m    991\u001b[0m \u001b[39m    Parameters\u001b[39;00m\n\u001b[1;32m   (...)\u001b[0m\n\u001b[0;32m   1001\u001b[0m \u001b[39m        Transformed array.\u001b[39;00m\n\u001b[0;32m   1002\u001b[0m \u001b[39m    \"\"\"\u001b[39;00m\n\u001b[1;32m-> 1003\u001b[0m     check_is_fitted(\u001b[39mself\u001b[39;49m)\n\u001b[0;32m   1005\u001b[0m     copy \u001b[39m=\u001b[39m copy \u001b[39mif\u001b[39;00m copy \u001b[39mis\u001b[39;00m \u001b[39mnot\u001b[39;00m \u001b[39mNone\u001b[39;00m \u001b[39melse\u001b[39;00m \u001b[39mself\u001b[39m\u001b[39m.\u001b[39mcopy\n\u001b[0;32m   1006\u001b[0m     X \u001b[39m=\u001b[39m \u001b[39mself\u001b[39m\u001b[39m.\u001b[39m_validate_data(\n\u001b[0;32m   1007\u001b[0m         X,\n\u001b[0;32m   1008\u001b[0m         reset\u001b[39m=\u001b[39m\u001b[39mFalse\u001b[39;00m,\n\u001b[1;32m   (...)\u001b[0m\n\u001b[0;32m   1012\u001b[0m         force_all_finite\u001b[39m=\u001b[39m\u001b[39m\"\u001b[39m\u001b[39mallow-nan\u001b[39m\u001b[39m\"\u001b[39m,\n\u001b[0;32m   1013\u001b[0m     )\n",
      "File \u001b[1;32m~\\AppData\\Roaming\\Python\\Python310\\site-packages\\sklearn\\utils\\validation.py:1461\u001b[0m, in \u001b[0;36mcheck_is_fitted\u001b[1;34m(estimator, attributes, msg, all_or_any)\u001b[0m\n\u001b[0;32m   1458\u001b[0m     \u001b[39mraise\u001b[39;00m \u001b[39mTypeError\u001b[39;00m(\u001b[39m\"\u001b[39m\u001b[39m%s\u001b[39;00m\u001b[39m is not an estimator instance.\u001b[39m\u001b[39m\"\u001b[39m \u001b[39m%\u001b[39m (estimator))\n\u001b[0;32m   1460\u001b[0m \u001b[39mif\u001b[39;00m \u001b[39mnot\u001b[39;00m _is_fitted(estimator, attributes, all_or_any):\n\u001b[1;32m-> 1461\u001b[0m     \u001b[39mraise\u001b[39;00m NotFittedError(msg \u001b[39m%\u001b[39m {\u001b[39m\"\u001b[39m\u001b[39mname\u001b[39m\u001b[39m\"\u001b[39m: \u001b[39mtype\u001b[39m(estimator)\u001b[39m.\u001b[39m\u001b[39m__name__\u001b[39m})\n",
      "\u001b[1;31mNotFittedError\u001b[0m: This StandardScaler instance is not fitted yet. Call 'fit' with appropriate arguments before using this estimator."
     ]
    }
   ],
   "source": [
    "def predict_heart_disease_risk(age, gender, cigsperday, bpmeds, prevalentstroke, prevalenthyp, diabetes, totcholesterol, sysbp, diabp, bmi, glucose):\n",
    "    input_data = np.array([[age, gender, cigsperday, bpmeds, prevalentstroke, prevalenthyp, diabetes, totcholesterol, sysbp, diabp, bmi, glucose]])\n",
    "    input_data = scaler.transform(input_data)  # Scale the input data\n",
    "    probabilities = loaded_model.predict_proba(input_data)\n",
    "    likelihood_of_heart_disease = (((probabilities[0][0]*100)-70)/(89-(probabilities[0][0]*100)))*100\n",
    "    return likelihood_of_heart_disease\n",
    "\n",
    "age =20\n",
    "gender = 1\n",
    "cigsperday = 0\n",
    "bpmeds = 0\n",
    "prevalentstroke = 0\n",
    "prevalenthyp = 1\n",
    "diabetes = 0\n",
    "totcholesterol = 120\n",
    "sysbp = 179\n",
    "diabp = 70\n",
    "bmi = 26.52\n",
    "glucose = 100\n",
    "\n",
    "heart_disease_likelihood = predict_heart_disease_risk(age, gender, cigsperday, bpmeds, prevalentstroke, prevalenthyp, diabetes, totcholesterol, sysbp, diabp, bmi, glucose)\n",
    "\n",
    "print(f\"Likelihood of Heart Disease: {heart_disease_likelihood:.2f}%\")"
   ]
  },
  {
   "cell_type": "code",
   "execution_count": 6,
   "metadata": {},
   "outputs": [
    {
     "ename": "ValueError",
     "evalue": "could not convert string to float: ''",
     "output_type": "error",
     "traceback": [
      "\u001b[1;31m---------------------------------------------------------------------------\u001b[0m",
      "\u001b[1;31mValueError\u001b[0m                                Traceback (most recent call last)",
      "\u001b[1;32me:\\sem3\\projectsem3\\HeartDiseasePredictionModel copy.ipynb Cell 53\u001b[0m line \u001b[0;36m1\n\u001b[0;32m      <a href='vscode-notebook-cell:/e%3A/sem3/projectsem3/HeartDiseasePredictionModel%20copy.ipynb#Y103sZmlsZQ%3D%3D?line=6'>7</a>\u001b[0m     likelihood_of_heart_disease \u001b[39m=\u001b[39m probabilities[\u001b[39m0\u001b[39m][\u001b[39m0\u001b[39m] \u001b[39m*\u001b[39m \u001b[39m100\u001b[39m \n\u001b[0;32m      <a href='vscode-notebook-cell:/e%3A/sem3/projectsem3/HeartDiseasePredictionModel%20copy.ipynb#Y103sZmlsZQ%3D%3D?line=7'>8</a>\u001b[0m     \u001b[39mreturn\u001b[39;00m likelihood_of_heart_disease\n\u001b[1;32m---> <a href='vscode-notebook-cell:/e%3A/sem3/projectsem3/HeartDiseasePredictionModel%20copy.ipynb#Y103sZmlsZQ%3D%3D?line=9'>10</a>\u001b[0m age \u001b[39m=\u001b[39m \u001b[39mfloat\u001b[39;49m(\u001b[39minput\u001b[39;49m(\u001b[39m\"\u001b[39;49m\u001b[39mEnter age: \u001b[39;49m\u001b[39m\"\u001b[39;49m))\n\u001b[0;32m     <a href='vscode-notebook-cell:/e%3A/sem3/projectsem3/HeartDiseasePredictionModel%20copy.ipynb#Y103sZmlsZQ%3D%3D?line=10'>11</a>\u001b[0m gender \u001b[39m=\u001b[39m \u001b[39mint\u001b[39m(\u001b[39minput\u001b[39m(\u001b[39m\"\u001b[39m\u001b[39mEnter gender (0 for female, 1 for male): \u001b[39m\u001b[39m\"\u001b[39m))\n\u001b[0;32m     <a href='vscode-notebook-cell:/e%3A/sem3/projectsem3/HeartDiseasePredictionModel%20copy.ipynb#Y103sZmlsZQ%3D%3D?line=11'>12</a>\u001b[0m cigsperday \u001b[39m=\u001b[39m \u001b[39mint\u001b[39m(\u001b[39minput\u001b[39m(\u001b[39m\"\u001b[39m\u001b[39mEnter number of cigarettes per day: \u001b[39m\u001b[39m\"\u001b[39m))\n",
      "\u001b[1;31mValueError\u001b[0m: could not convert string to float: ''"
     ]
    }
   ],
   "source": [
    "import numpy as np\n",
    "\n",
    "def predict_heart_disease_risk(age, gender, cigsperday, bpmeds, prevalentstroke, prevalenthyp, diabetes, totcholesterol, sysbp, diabp, bmi, glucose):\n",
    "    input_data = np.array([[age, gender, cigsperday, bpmeds, prevalentstroke, prevalenthyp, diabetes, totcholesterol, sysbp, diabp, bmi, glucose]])\n",
    "    input_data = scaler.transform(input_data)  \n",
    "    probabilities = loaded_model.predict_proba(input_data)\n",
    "    likelihood_of_heart_disease = probabilities[0][0] * 100 \n",
    "    return likelihood_of_heart_disease\n",
    "\n",
    "age = float(input(\"Enter age: \"))\n",
    "gender = int(input(\"Enter gender (0 for female, 1 for male): \"))\n",
    "cigsperday = int(input(\"Enter number of cigarettes per day: \"))\n",
    "bpmeds = int(input(\"Are you on blood pressure medication? (0 for No, 1 for Yes): \"))\n",
    "prevalentstroke = int(input(\"Have you had a stroke before? (0 for No, 1 for Yes): \"))\n",
    "prevalenthyp = int(input(\"Do you have prevalent hypertension? (0 for No, 1 for Yes): \"))\n",
    "diabetes = int(input(\"Do you have diabetes? (0 for No, 1 for Yes): \"))\n",
    "totcholesterol = float(input(\"Enter total cholesterol level: \"))\n",
    "sysbp = float(input(\"Enter systolic blood pressure: \"))\n",
    "diabp = float(input(\"Enter diastolic blood pressure: \"))\n",
    "bmi = float(input(\"Enter BMI (Body Mass Index): \"))\n",
    "glucose = float(input(\"Enter fasting blood glucose level: \"))\n",
    "\n",
    "heart_disease_likelihood = predict_heart_disease_risk(age, gender, cigsperday, bpmeds, prevalentstroke, prevalenthyp, diabetes, totcholesterol, sysbp, diabp, bmi, glucose)\n",
    "\n",
    "print(f\"Likelihood of Heart Disease: {heart_disease_likelihood:.2f}%\")\n"
   ]
  }
 ],
 "metadata": {
  "kernelspec": {
   "display_name": "Python 3 (ipykernel)",
   "language": "python",
   "name": "python3"
  },
  "language_info": {
   "codemirror_mode": {
    "name": "ipython",
    "version": 3
   },
   "file_extension": ".py",
   "mimetype": "text/x-python",
   "name": "python",
   "nbconvert_exporter": "python",
   "pygments_lexer": "ipython3",
   "version": "3.10.0"
  }
 },
 "nbformat": 4,
 "nbformat_minor": 5
}
